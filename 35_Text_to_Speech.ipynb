{
 "cells": [
  {
   "cell_type": "code",
   "execution_count": 1,
   "id": "496dea10",
   "metadata": {},
   "outputs": [
    {
     "name": "stdout",
     "output_type": "stream",
     "text": [
      "Requirement already satisfied: gtts in c:\\users\\rohit\\anaconda3\\lib\\site-packages (2.5.1)\n",
      "Requirement already satisfied: playsound in c:\\users\\rohit\\anaconda3\\lib\\site-packages (1.2.2)\n",
      "Requirement already satisfied: requests<3,>=2.27 in c:\\users\\rohit\\anaconda3\\lib\\site-packages (from gtts) (2.31.0)\n",
      "Requirement already satisfied: click<8.2,>=7.1 in c:\\users\\rohit\\anaconda3\\lib\\site-packages (from gtts) (8.1.7)\n",
      "Requirement already satisfied: colorama in c:\\users\\rohit\\anaconda3\\lib\\site-packages (from click<8.2,>=7.1->gtts) (0.4.6)\n",
      "Requirement already satisfied: charset-normalizer<4,>=2 in c:\\users\\rohit\\anaconda3\\lib\\site-packages (from requests<3,>=2.27->gtts) (2.0.4)\n",
      "Requirement already satisfied: idna<4,>=2.5 in c:\\users\\rohit\\anaconda3\\lib\\site-packages (from requests<3,>=2.27->gtts) (3.4)\n",
      "Requirement already satisfied: urllib3<3,>=1.21.1 in c:\\users\\rohit\\anaconda3\\lib\\site-packages (from requests<3,>=2.27->gtts) (2.0.7)\n",
      "Requirement already satisfied: certifi>=2017.4.17 in c:\\users\\rohit\\anaconda3\\lib\\site-packages (from requests<3,>=2.27->gtts) (2024.2.2)\n",
      "Note: you may need to restart the kernel to use updated packages.\n"
     ]
    }
   ],
   "source": [
    "pip install gtts playsound"
   ]
  },
  {
   "cell_type": "code",
   "execution_count": 2,
   "id": "692d4706",
   "metadata": {},
   "outputs": [],
   "source": [
    "from gtts import gTTS   #class\n",
    "from playsound import playsound   #method"
   ]
  },
  {
   "cell_type": "code",
   "execution_count": 3,
   "id": "d8aa1175",
   "metadata": {},
   "outputs": [],
   "source": [
    "# create obj:\n",
    "tts = gTTS(text = 'Good morning friends, how are you all', lang='en')\n"
   ]
  },
  {
   "cell_type": "code",
   "execution_count": 4,
   "id": "c633a70c",
   "metadata": {},
   "outputs": [],
   "source": [
    "# save and play the sound:\n",
    "tts.save('speech_eng.mp3')\n",
    "playsound('speech_eng.mp3')"
   ]
  },
  {
   "cell_type": "code",
   "execution_count": 7,
   "id": "58d9a8c6",
   "metadata": {},
   "outputs": [],
   "source": [
    "# with diff languate:\n",
    "tts = gTTS(text = 'स्वागत आहे', lang = 'mr')\n",
    "tts.save('speech_mar.mp3')\n",
    "playsound('speech_mar.mp3')"
   ]
  },
  {
   "cell_type": "code",
   "execution_count": 8,
   "id": "988d29ff",
   "metadata": {},
   "outputs": [],
   "source": [
    "text = \"मी रोहित शिवाजी आवडण .राहणार तळेगाव दाभाडे. चिकू आवडणं याच्या विरुद्ध तक्रार नोंदवू इच्छित आहे. तरी या समास ने माझ्या प्रॉपर्टी वरती डोळा ठेऊन माझ्या आईबाबांना त्याचा प्रेमाचा जाळ्यात अडकून मला माझ्या आईबाबा पासून लांब केलं आहे. तरी माझ्या तक्राराची नोंद घेऊन त्याला लवकरात लवकर ताब्यात घेऊन योग्य ती कारवाई करावी ही विनंती.\"\n",
    "tts = gTTS(text, lang = 'mr')\n",
    "tts.save('speech_complaint.mp3')\n",
    "playsound('speech_complaint.mp3')"
   ]
  },
  {
   "cell_type": "code",
   "execution_count": null,
   "id": "95ec9ce4",
   "metadata": {},
   "outputs": [],
   "source": []
  }
 ],
 "metadata": {
  "kernelspec": {
   "display_name": "Python 3 (ipykernel)",
   "language": "python",
   "name": "python3"
  },
  "language_info": {
   "codemirror_mode": {
    "name": "ipython",
    "version": 3
   },
   "file_extension": ".py",
   "mimetype": "text/x-python",
   "name": "python",
   "nbconvert_exporter": "python",
   "pygments_lexer": "ipython3",
   "version": "3.11.7"
  }
 },
 "nbformat": 4,
 "nbformat_minor": 5
}
