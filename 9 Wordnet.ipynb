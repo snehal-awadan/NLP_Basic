{
 "cells": [
  {
   "cell_type": "code",
   "execution_count": 1,
   "id": "55d7c059",
   "metadata": {},
   "outputs": [],
   "source": [
    "from nltk.corpus import wordnet"
   ]
  },
  {
   "cell_type": "markdown",
   "id": "498259d8",
   "metadata": {},
   "source": [
    "# find out all the synsets of the word \"create\" :"
   ]
  },
  {
   "cell_type": "code",
   "execution_count": 2,
   "id": "ebbe62cd",
   "metadata": {},
   "outputs": [
    {
     "data": {
      "text/plain": [
       "[Synset('make.v.03'),\n",
       " Synset('create.v.02'),\n",
       " Synset('create.v.03'),\n",
       " Synset('create.v.04'),\n",
       " Synset('create.v.05'),\n",
       " Synset('produce.v.02')]"
      ]
     },
     "execution_count": 2,
     "metadata": {},
     "output_type": "execute_result"
    }
   ],
   "source": [
    "x = wordnet.synsets(\"create\")\n",
    "x"
   ]
  },
  {
   "cell_type": "code",
   "execution_count": 3,
   "id": "7ffaffc4",
   "metadata": {},
   "outputs": [
    {
     "data": {
      "text/plain": [
       "{'create', 'make', 'produce'}"
      ]
     },
     "execution_count": 3,
     "metadata": {},
     "output_type": "execute_result"
    }
   ],
   "source": [
    "# Remove the duplication:\n",
    "\n",
    "synonyms = set()\n",
    "\n",
    "for word in wordnet.synsets(\"create\"):\n",
    "    synonyms.add(word.lemmas()[0].name())\n",
    "    \n",
    "synonyms"
   ]
  },
  {
   "cell_type": "markdown",
   "id": "dd211650",
   "metadata": {},
   "source": [
    "# Another example:"
   ]
  },
  {
   "cell_type": "code",
   "execution_count": 4,
   "id": "5bae0bc5",
   "metadata": {},
   "outputs": [
    {
     "name": "stdout",
     "output_type": "stream",
     "text": [
      "book\n",
      "book\n",
      "record\n",
      "script\n",
      "ledger\n",
      "book\n",
      "book\n",
      "Koran\n",
      "Bible\n",
      "book\n",
      "book\n",
      "book\n",
      "reserve\n",
      "book\n",
      "book\n"
     ]
    }
   ],
   "source": [
    "synonyms = set()\n",
    "\n",
    "for word in wordnet.synsets(\"book\"):\n",
    "    print(word.lemmas()[0].name())"
   ]
  },
  {
   "cell_type": "markdown",
   "id": "362720b6",
   "metadata": {},
   "source": [
    "# Definition and example:"
   ]
  },
  {
   "cell_type": "markdown",
   "id": "99cfb5d4",
   "metadata": {},
   "source": [
    "# For first form of the \"post\":"
   ]
  },
  {
   "cell_type": "code",
   "execution_count": 6,
   "id": "87550534",
   "metadata": {},
   "outputs": [
    {
     "name": "stdout",
     "output_type": "stream",
     "text": [
      "word and type:  post.n.01\n",
      "synonyms:  post\n",
      "The meaning of the word:  the position where someone (as a guard or sentry) stands or is assigned to stand\n",
      "example : ['he occupied a post in the treasury']\n"
     ]
    }
   ],
   "source": [
    "synset = wordnet.synsets(\"post\")\n",
    "\n",
    "print(\"word and type: \", synset[0].name())\n",
    "\n",
    "print(\"synonyms: \", synset[0].lemmas()[0].name())\n",
    "\n",
    "print(\"The meaning of the word: \", synset[0].definition())\n",
    "\n",
    "print(\"example : \" + str(synset[2].examples()))"
   ]
  },
  {
   "cell_type": "markdown",
   "id": "7b8fb74d",
   "metadata": {},
   "source": [
    "# For third form of the \"post\":"
   ]
  },
  {
   "cell_type": "code",
   "execution_count": 7,
   "id": "5c605f02",
   "metadata": {},
   "outputs": [
    {
     "name": "stdout",
     "output_type": "stream",
     "text": [
      "word and type: position.n.06\n",
      "Synonym: position\n",
      "The meaning of the word: a job in an organization\n",
      "Example: ['he occupied a post in the treasury']\n"
     ]
    }
   ],
   "source": [
    "synset = wordnet.synsets(\"post\")\n",
    "\n",
    "print(\"word and type: \" + synset[2].name())\n",
    "\n",
    "print(\"Synonym: \" + synset[2].lemmas()[0].name())\n",
    "\n",
    "print(\"The meaning of the word: \" + synset[2].definition())\n",
    "\n",
    "print(\"Example: \" + str(synset[2].examples()))"
   ]
  },
  {
   "cell_type": "markdown",
   "id": "f09b78be",
   "metadata": {},
   "source": [
    "# For sixth form of the \"post\":"
   ]
  },
  {
   "cell_type": "code",
   "execution_count": 13,
   "id": "3305087b",
   "metadata": {},
   "outputs": [
    {
     "name": "stdout",
     "output_type": "stream",
     "text": [
      "word and type:  post.n.06\n",
      "synonyms:  Post\n",
      "The meaning of the word:  United States female author who wrote a book and a syndicated newspaper column on etiquette (1872-1960)\n",
      "Example:  []\n"
     ]
    }
   ],
   "source": [
    "synset = wordnet.synsets(\"post\")\n",
    "\n",
    "print(\"word and type: \", synset[5].name())\n",
    "\n",
    "print(\"synonyms: \", synset[5].lemmas()[0].name())\n",
    "\n",
    "print(\"The meaning of the word: \", synset[5].definition())\n",
    "\n",
    "print(\"Example: \", synset[5].examples())"
   ]
  },
  {
   "cell_type": "markdown",
   "id": "a55a4e6d",
   "metadata": {},
   "source": [
    "# Print all the synset for the word \"post\":\n"
   ]
  },
  {
   "cell_type": "code",
   "execution_count": 15,
   "id": "8895eed0",
   "metadata": {},
   "outputs": [
    {
     "data": {
      "text/plain": [
       "[Synset('post.n.01'),\n",
       " Synset('military_post.n.01'),\n",
       " Synset('position.n.06'),\n",
       " Synset('post.n.04'),\n",
       " Synset('post.n.05'),\n",
       " Synset('post.n.06'),\n",
       " Synset('post.n.07'),\n",
       " Synset('mail.n.04'),\n",
       " Synset('post.n.09'),\n",
       " Synset('mail.n.02'),\n",
       " Synset('post.n.11'),\n",
       " Synset('post.v.01'),\n",
       " Synset('post.v.02'),\n",
       " Synset('post.v.03'),\n",
       " Synset('station.v.01'),\n",
       " Synset('post.v.05'),\n",
       " Synset('post.v.06'),\n",
       " Synset('post.v.07'),\n",
       " Synset('post.v.08'),\n",
       " Synset('stake.v.03'),\n",
       " Synset('post.v.10'),\n",
       " Synset('mail.v.02'),\n",
       " Synset('post.v.12')]"
      ]
     },
     "execution_count": 15,
     "metadata": {},
     "output_type": "execute_result"
    }
   ],
   "source": [
    "synset"
   ]
  },
  {
   "cell_type": "markdown",
   "id": "748c19ad",
   "metadata": {},
   "source": [
    "# find synsets uisng pos:"
   ]
  },
  {
   "cell_type": "markdown",
   "id": "433b588d",
   "metadata": {},
   "source": [
    "# extract all synset which are verb only using pos:"
   ]
  },
  {
   "cell_type": "code",
   "execution_count": 16,
   "id": "c0f72d1c",
   "metadata": {},
   "outputs": [
    {
     "name": "stdout",
     "output_type": "stream",
     "text": [
      "sound.v.01\n",
      "sound.v.02\n",
      "sound.v.03\n",
      "sound.v.04\n",
      "voice.v.02\n",
      "sound.v.06\n",
      "fathom.v.02\n"
     ]
    }
   ],
   "source": [
    "for word in wordnet.synsets(\"sound\", pos = \"v\"):\n",
    "    print(word.name())"
   ]
  },
  {
   "cell_type": "markdown",
   "id": "6e3c7e5b",
   "metadata": {},
   "source": [
    "# Read a word from user and print all meaning of it"
   ]
  },
  {
   "cell_type": "code",
   "execution_count": 18,
   "id": "d7123114",
   "metadata": {},
   "outputs": [
    {
     "name": "stdout",
     "output_type": "stream",
     "text": [
      "Enter the word to find the synsets: book\n",
      "\n",
      " the meaning of the given word is: \n",
      "book.n.01 ==> a written work or composition that has been published (printed on pages bound together)\n",
      "book.n.02 ==> physical objects consisting of a number of pages bound together\n",
      "record.n.05 ==> a compilation of the known facts regarding something or someone\n",
      "script.n.01 ==> a written version of a play or other dramatic composition; used in preparing for a performance\n",
      "ledger.n.01 ==> a record in which commercial accounts are recorded\n",
      "book.n.06 ==> a collection of playing cards satisfying the rules of a card game\n",
      "book.n.07 ==> a collection of rules or prescribed standards on the basis of which decisions are made\n",
      "koran.n.01 ==> the sacred writings of Islam revealed by God to the prophet Muhammad during his life at Mecca and Medina\n",
      "bible.n.01 ==> the sacred writings of the Christian religions\n",
      "book.n.10 ==> a major division of a long written composition\n",
      "book.n.11 ==> a number of sheets (ticket or stamps etc.) bound together on one edge\n",
      "book.v.01 ==> engage for a performance\n",
      "reserve.v.04 ==> arrange for and reserve (something for someone else) in advance\n",
      "book.v.03 ==> record a charge in a police register\n",
      "book.v.04 ==> register in a hotel booker\n"
     ]
    }
   ],
   "source": [
    "word = input(\"Enter the word to find the synsets: \")\n",
    "\n",
    "print(\"\\n the meaning of the given word is: \")\n",
    "\n",
    "for word in wordnet.synsets(word):\n",
    "    print(word.name(), '==>', word.definition())"
   ]
  },
  {
   "cell_type": "markdown",
   "id": "0527cb29",
   "metadata": {},
   "source": [
    "# Read a word from user and print all noun meaning of it"
   ]
  },
  {
   "cell_type": "code",
   "execution_count": 19,
   "id": "65288f80",
   "metadata": {},
   "outputs": [
    {
     "name": "stdout",
     "output_type": "stream",
     "text": [
      "enter the word to print all noun: book\n",
      "\n",
      " noun meaning of the given word: \n",
      "book.n.01 ==> a written work or composition that has been published (printed on pages bound together)\n",
      "book.n.02 ==> physical objects consisting of a number of pages bound together\n",
      "record.n.05 ==> a compilation of the known facts regarding something or someone\n",
      "script.n.01 ==> a written version of a play or other dramatic composition; used in preparing for a performance\n",
      "ledger.n.01 ==> a record in which commercial accounts are recorded\n",
      "book.n.06 ==> a collection of playing cards satisfying the rules of a card game\n",
      "book.n.07 ==> a collection of rules or prescribed standards on the basis of which decisions are made\n",
      "koran.n.01 ==> the sacred writings of Islam revealed by God to the prophet Muhammad during his life at Mecca and Medina\n",
      "bible.n.01 ==> the sacred writings of the Christian religions\n",
      "book.n.10 ==> a major division of a long written composition\n",
      "book.n.11 ==> a number of sheets (ticket or stamps etc.) bound together on one edge\n"
     ]
    }
   ],
   "source": [
    "word = input(\"enter the word to print all noun: \")\n",
    "\n",
    "print('\\n noun meaning of the given word: ')\n",
    "\n",
    "for word in wordnet.synsets(word, pos = \"n\"):\n",
    "    print(word.name(), '==>', word.definition())"
   ]
  },
  {
   "cell_type": "markdown",
   "id": "67f46219",
   "metadata": {},
   "source": [
    "# Find the verbs, noun, and adjective:"
   ]
  },
  {
   "cell_type": "code",
   "execution_count": 24,
   "id": "bdbc5d4b",
   "metadata": {},
   "outputs": [
    {
     "name": "stdout",
     "output_type": "stream",
     "text": [
      "the verbs are:  {'sound', 'fathom', 'voice'}\n",
      "the nouns are:  {'sound', 'strait', 'audio', 'phone'}\n",
      "the adjectives:  {'reasoned', 'sound', 'legal', 'healthy', 'good', 'heavy'}\n"
     ]
    }
   ],
   "source": [
    "# to avoid repetition of the forms: \n",
    "\n",
    "noun = set()\n",
    "verbs = set()\n",
    "adj = set()\n",
    "\n",
    "for word in wordnet.synsets(\"sound\", pos = \"n\"):\n",
    "    noun.add(word.lemmas()[0].name())\n",
    "    \n",
    "for word in wordnet.synsets(\"sound\", pos = \"v\"):\n",
    "    verbs.add(word.lemmas()[0].name())\n",
    "    \n",
    "for word in wordnet.synsets(\"sound\", pos = \"a\"):\n",
    "    adj.add(word.lemmas()[0].name())\n",
    "    \n",
    "print(\"the verbs are: \", verbs)\n",
    "print(\"the nouns are: \", noun)\n",
    "print(\"the adjectives: \", adj)"
   ]
  },
  {
   "cell_type": "markdown",
   "id": "9dc1bbed",
   "metadata": {},
   "source": [
    "# Find the antomyms:"
   ]
  },
  {
   "cell_type": "code",
   "execution_count": 29,
   "id": "6408037b",
   "metadata": {},
   "outputs": [
    {
     "name": "stdout",
     "output_type": "stream",
     "text": [
      "antonyms:  {'impossible', 'actual'}\n"
     ]
    }
   ],
   "source": [
    "ant = set()\n",
    "\n",
    "for synset in wordnet.synsets(\"possible\"):\n",
    "    for lemma in synset.lemmas():\n",
    "        # check antonyms are available:\n",
    "        if lemma.antonyms():\n",
    "            ant.add(lemma.antonyms()[0].name())\n",
    "print('antonyms: ', ant)"
   ]
  },
  {
   "cell_type": "markdown",
   "id": "67cd374c",
   "metadata": {},
   "source": [
    "# Extract the hypernyms:"
   ]
  },
  {
   "cell_type": "code",
   "execution_count": 34,
   "id": "6ba82e71",
   "metadata": {},
   "outputs": [
    {
     "name": "stdout",
     "output_type": "stream",
     "text": [
      "soilis a hyponym of dirtiness.n.01\n",
      "soilis a hyponym of earth.n.02\n",
      "soilis a hyponym of object.n.01\n",
      "soilis a hyponym of geographical_area.n.01\n",
      "soilis a hyponym of change.v.01\n"
     ]
    }
   ],
   "source": [
    "word = \"soil\"\n",
    "\n",
    "synsets = wordnet.synsets(word)\n",
    "\n",
    "for synset in synsets:\n",
    "    #Get hypernyms(parent concepts)\n",
    "    \n",
    "    hypernyms=synset.hypernyms()\n",
    "    #check if there are any hypernyms\n",
    "    \n",
    "    if hypernyms:\n",
    "        #print hypernyms (can access name property for text)\n",
    "        \n",
    "        for hypernym in hypernyms:\n",
    "            print(f\"{word}is a hyponym of {hypernym.name()}\")"
   ]
  },
  {
   "cell_type": "markdown",
   "id": "865d77c6",
   "metadata": {},
   "source": [
    "# Extract the Meronyms:"
   ]
  },
  {
   "cell_type": "code",
   "execution_count": 36,
   "id": "42a9f19c",
   "metadata": {},
   "outputs": [
    {
     "name": "stdout",
     "output_type": "stream",
     "text": [
      "bookis a hyponym of running_head.n.01\n",
      "bookis a hyponym of signature.n.05\n",
      "bookis a hyponym of binding.n.05\n",
      "bookis a hyponym of fore_edge.n.01\n",
      "bookis a hyponym of spine.n.04\n",
      "bookis a hyponym of rule.n.03\n",
      "bookis a hyponym of rule.n.08\n",
      "bookis a hyponym of sura.n.01\n",
      "bookis a hyponym of new_testament.n.01\n",
      "bookis a hyponym of old_testament.n.01\n",
      "bookis a hyponym of testament.n.04\n",
      "bookis a hyponym of text.n.02\n"
     ]
    }
   ],
   "source": [
    "word = \"book\"\n",
    "\n",
    "synsets = wordnet.synsets(word)\n",
    "\n",
    "for synset in synsets:\n",
    "    #Get hypernyms(parent concepts)\n",
    "    \n",
    "    meronyms=synset.part_meronyms()\n",
    "    #check if there are any hypernyms\n",
    "    \n",
    "    if meronyms:\n",
    "        #print hypernyms (can access name property for text)\n",
    "        \n",
    "        for meronym in meronyms:\n",
    "            print(f\"{word}is a hyponym of {meronym.name()}\")"
   ]
  },
  {
   "cell_type": "code",
   "execution_count": null,
   "id": "21568867",
   "metadata": {},
   "outputs": [],
   "source": []
  }
 ],
 "metadata": {
  "kernelspec": {
   "display_name": "Python 3 (ipykernel)",
   "language": "python",
   "name": "python3"
  },
  "language_info": {
   "codemirror_mode": {
    "name": "ipython",
    "version": 3
   },
   "file_extension": ".py",
   "mimetype": "text/x-python",
   "name": "python",
   "nbconvert_exporter": "python",
   "pygments_lexer": "ipython3",
   "version": "3.11.7"
  }
 },
 "nbformat": 4,
 "nbformat_minor": 5
}
