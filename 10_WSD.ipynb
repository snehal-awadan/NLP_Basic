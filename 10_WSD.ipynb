{
 "cells": [
  {
   "cell_type": "code",
   "execution_count": 1,
   "id": "80e99a6a",
   "metadata": {},
   "outputs": [],
   "source": [
    "from nltk.wsd import lesk\n",
    "from nltk.tokenize import word_tokenize"
   ]
  },
  {
   "cell_type": "code",
   "execution_count": 2,
   "id": "a6d2ac0d",
   "metadata": {},
   "outputs": [
    {
     "data": {
      "text/plain": [
       "'deliberate radiation or reflection of electromagnetic energy for the purpose of disrupting enemy use of electronic devices or systems'"
      ]
     },
     "execution_count": 2,
     "metadata": {},
     "output_type": "execute_result"
    }
   ],
   "source": [
    "a1= lesk(word_tokenize(\"This device is used to jam the signal\"),\"jam\")\n",
    "a1.definition()"
   ]
  },
  {
   "cell_type": "code",
   "execution_count": 3,
   "id": "5212cb45",
   "metadata": {},
   "outputs": [
    {
     "data": {
      "text/plain": [
       "'get stuck and immobilized'"
      ]
     },
     "execution_count": 3,
     "metadata": {},
     "output_type": "execute_result"
    }
   ],
   "source": [
    "a2=lesk(word_tokenize(\"It is a heavy traffic jam here. We are stuck at same place.\"),'jam')\n",
    "a2.definition()"
   ]
  },
  {
   "cell_type": "code",
   "execution_count": 4,
   "id": "eb1dc3c8",
   "metadata": {},
   "outputs": [
    {
     "data": {
      "text/plain": [
       "'press tightly together or cram'"
      ]
     },
     "execution_count": 4,
     "metadata": {},
     "output_type": "execute_result"
    }
   ],
   "source": [
    "a1= lesk(word_tokenize(\"I like jim jam biscuit\"),\"jam\")\n",
    "a1.definition()"
   ]
  },
  {
   "cell_type": "code",
   "execution_count": 5,
   "id": "23b62f1d",
   "metadata": {},
   "outputs": [
    {
     "data": {
      "text/plain": [
       "'discover or come upon accidentally, suddenly, or unexpectedly; catch somebody doing something or in a certain state'"
      ]
     },
     "execution_count": 5,
     "metadata": {},
     "output_type": "execute_result"
    }
   ],
   "source": [
    "a1= lesk(word_tokenize(\"It was a good catch by the player\"),\"catch\")\n",
    "a1.definition()"
   ]
  },
  {
   "cell_type": "code",
   "execution_count": 6,
   "id": "4f064099",
   "metadata": {},
   "outputs": [
    {
     "data": {
      "text/plain": [
       "'catch up with and possibly overtake'"
      ]
     },
     "execution_count": 6,
     "metadata": {},
     "output_type": "execute_result"
    }
   ],
   "source": [
    "a1= lesk(word_tokenize(\"you shoul catch that opportunity\"),\"catch\")\n",
    "a1.definition()"
   ]
  },
  {
   "cell_type": "code",
   "execution_count": 7,
   "id": "8643e5d1",
   "metadata": {},
   "outputs": [
    {
     "data": {
      "text/plain": [
       "'having a low or inadequate temperature or feeling a sensation of coldness or having been made cold by e.g. ice or refrigeration'"
      ]
     },
     "execution_count": 7,
     "metadata": {},
     "output_type": "execute_result"
    }
   ],
   "source": [
    "a1= lesk(word_tokenize(\"I catch cold in winter\"),\"cold\")\n",
    "a1.definition()"
   ]
  },
  {
   "cell_type": "code",
   "execution_count": 8,
   "id": "a2140de6",
   "metadata": {},
   "outputs": [
    {
     "data": {
      "text/plain": [
       "'prefer or wish to do something'"
      ]
     },
     "execution_count": 8,
     "metadata": {},
     "output_type": "execute_result"
    }
   ],
   "source": [
    "a1= lesk(word_tokenize(\"he like flowers\"),\"like\")\n",
    "a1.definition()"
   ]
  },
  {
   "cell_type": "code",
   "execution_count": 9,
   "id": "133d320e",
   "metadata": {},
   "outputs": [
    {
     "data": {
      "text/plain": [
       "'a kind of person'"
      ]
     },
     "execution_count": 9,
     "metadata": {},
     "output_type": "execute_result"
    }
   ],
   "source": [
    "a1= lesk(word_tokenize(\"The association is like a bad combination\"),\"like\")\n",
    "a1.definition()"
   ]
  },
  {
   "cell_type": "code",
   "execution_count": 10,
   "id": "ebc60163",
   "metadata": {},
   "outputs": [
    {
     "data": {
      "text/plain": [
       "'a slope in the turn of a road or track; the outside is higher than the inside in order to reduce the effects of centrifugal force'"
      ]
     },
     "execution_count": 10,
     "metadata": {},
     "output_type": "execute_result"
    }
   ],
   "source": [
    "a1= lesk(word_tokenize(\"His home is situated on the bank of river\"),\"bank\")\n",
    "a1.definition()"
   ]
  },
  {
   "cell_type": "code",
   "execution_count": 11,
   "id": "f92407d2",
   "metadata": {},
   "outputs": [
    {
     "data": {
      "text/plain": [
       "'a container (usually with a slot in the top) for keeping money at home'"
      ]
     },
     "execution_count": 11,
     "metadata": {},
     "output_type": "execute_result"
    }
   ],
   "source": [
    "a1= lesk(word_tokenize(\"I went to bank to deposit the money\"),\"bank\")\n",
    "a1.definition()"
   ]
  },
  {
   "cell_type": "code",
   "execution_count": 12,
   "id": "0f748808",
   "metadata": {},
   "outputs": [
    {
     "data": {
      "text/plain": [
       "'transfer (entries) from one account book to another'"
      ]
     },
     "execution_count": 12,
     "metadata": {},
     "output_type": "execute_result"
    }
   ],
   "source": [
    "a1 = lesk(word_tokenize(\"You can post it on your social media account\"),\"post\")\n",
    "a1.definition()"
   ]
  },
  {
   "cell_type": "code",
   "execution_count": 13,
   "id": "a7b83df3",
   "metadata": {},
   "outputs": [
    {
     "data": {
      "text/plain": [
       "'the system whereby messages are transmitted via the post office'"
      ]
     },
     "execution_count": 13,
     "metadata": {},
     "output_type": "execute_result"
    }
   ],
   "source": [
    "a1= lesk(word_tokenize(\"He has sent the message by post\"),\"post\")\n",
    "a1.definition()"
   ]
  },
  {
   "cell_type": "code",
   "execution_count": null,
   "id": "3ade4be1",
   "metadata": {},
   "outputs": [],
   "source": []
  }
 ],
 "metadata": {
  "kernelspec": {
   "display_name": "Python 3 (ipykernel)",
   "language": "python",
   "name": "python3"
  },
  "language_info": {
   "codemirror_mode": {
    "name": "ipython",
    "version": 3
   },
   "file_extension": ".py",
   "mimetype": "text/x-python",
   "name": "python",
   "nbconvert_exporter": "python",
   "pygments_lexer": "ipython3",
   "version": "3.11.7"
  }
 },
 "nbformat": 4,
 "nbformat_minor": 5
}
