{
 "cells": [
  {
   "cell_type": "markdown",
   "id": "afa3a072-d506-4529-924e-342a97b4e4f0",
   "metadata": {},
   "source": [
    "# Declare the words"
   ]
  },
  {
   "cell_type": "code",
   "execution_count": 2,
   "id": "baf15c6d-e45e-499b-b4c6-1b3d9183398e",
   "metadata": {},
   "outputs": [],
   "source": [
    "words1  = 'managing', 'manage', 'management', 'managerial', 'managed'\n",
    "\n",
    "words2 = 'worked' ,'workable', 'working', 'worked'\n",
    "\n",
    "words3 = 'big', 'biggest', 'bigger'\n",
    "\n",
    "words4 = 'go', 'gone', 'went', 'going'\n",
    "\n",
    "words5 = 'association', 'associated', 'associate'"
   ]
  },
  {
   "cell_type": "markdown",
   "id": "952d98db-ce3c-4c0c-bf71-9a448b3e57c9",
   "metadata": {},
   "source": [
    "# Porter Stemmer"
   ]
  },
  {
   "cell_type": "code",
   "execution_count": 3,
   "id": "6028c139-721a-488c-a382-e3cc0c7ea697",
   "metadata": {},
   "outputs": [],
   "source": [
    "from nltk.stem import PorterStemmer"
   ]
  },
  {
   "cell_type": "code",
   "execution_count": 20,
   "id": "ad9624a3-1d27-4dbd-bd4c-e06ba81297d8",
   "metadata": {},
   "outputs": [
    {
     "name": "stdout",
     "output_type": "stream",
     "text": [
      "managing ==> manag\n",
      "manage ==> manag\n",
      "management ==> manag\n",
      "managerial ==> manageri\n",
      "managed ==> manag\n"
     ]
    }
   ],
   "source": [
    "# create the object\n",
    "ps = PorterStemmer()\n",
    "\n",
    "for word in words1:\n",
    "    print(word, '==>', ps.stem(word))"
   ]
  },
  {
   "cell_type": "code",
   "execution_count": 17,
   "id": "1a182e9a-9597-42a3-8dd5-4e28cff3d0f9",
   "metadata": {},
   "outputs": [
    {
     "name": "stdout",
     "output_type": "stream",
     "text": [
      "worked ==> work\n",
      "workable ==> workabl\n",
      "working ==> work\n",
      "worked ==> work\n"
     ]
    }
   ],
   "source": [
    "for word in words2:\n",
    "    print(word, '==>', ps.stem(word))"
   ]
  },
  {
   "cell_type": "code",
   "execution_count": 18,
   "id": "e4e557df-75c2-4628-8299-62292eb1fccc",
   "metadata": {},
   "outputs": [
    {
     "name": "stdout",
     "output_type": "stream",
     "text": [
      "big ==> big\n",
      "biggest ==> biggest\n",
      "bigger ==> bigger\n"
     ]
    }
   ],
   "source": [
    "for word in words3:\n",
    "    print(word, '==>', ps.stem(word))"
   ]
  },
  {
   "cell_type": "code",
   "execution_count": 19,
   "id": "6c89e8a5-1cf6-4372-8fc9-1fc9ce49c532",
   "metadata": {},
   "outputs": [
    {
     "name": "stdout",
     "output_type": "stream",
     "text": [
      "go ==> go\n",
      "gone ==> gone\n",
      "went ==> went\n",
      "going ==> go\n"
     ]
    }
   ],
   "source": [
    "for word in words4:\n",
    "    print(word, '==>', ps.stem(word))"
   ]
  },
  {
   "cell_type": "code",
   "execution_count": 21,
   "id": "f38a57cb-bb8a-4cde-9f5b-ace9219d5797",
   "metadata": {},
   "outputs": [
    {
     "name": "stdout",
     "output_type": "stream",
     "text": [
      "association ==> associ\n",
      "associated ==> associ\n",
      "associate ==> associ\n"
     ]
    }
   ],
   "source": [
    "for word in words5:\n",
    "    print(word, '==>', ps.stem(word))"
   ]
  },
  {
   "cell_type": "code",
   "execution_count": 27,
   "id": "93f36fc1-b26e-49ed-a3f6-9b336d579ba9",
   "metadata": {},
   "outputs": [],
   "source": [
    "sent = 'Hello friends! How are you? I like Python Programming'"
   ]
  },
  {
   "cell_type": "code",
   "execution_count": 28,
   "id": "f1679eaf-e63b-4c4c-8fca-4de2dcca92e8",
   "metadata": {},
   "outputs": [],
   "source": [
    "from nltk.tokenize import word_tokenize\n",
    "from nltk.corpus import stopwords"
   ]
  },
  {
   "cell_type": "code",
   "execution_count": 36,
   "id": "b58339dd-8726-487f-be9c-678e9869bd0d",
   "metadata": {},
   "outputs": [],
   "source": [
    "swords = stopwords.words('english')\n"
   ]
  },
  {
   "cell_type": "code",
   "execution_count": 30,
   "id": "8b42c327-a71e-4334-a877-fc8de11823be",
   "metadata": {},
   "outputs": [
    {
     "data": {
      "text/plain": [
       "['Hello', 'friends', 'like', 'Python', 'Programming']"
      ]
     },
     "execution_count": 30,
     "metadata": {},
     "output_type": "execute_result"
    }
   ],
   "source": [
    "# Remove the punctuation:\n",
    "\n",
    "clean = [x for x in word_tokenize(sent) if x.lower() not in swords and x.isalnum()]\n",
    "clean"
   ]
  },
  {
   "cell_type": "code",
   "execution_count": 56,
   "id": "6c7b1cb6-199e-46db-a27e-ea94141aeda9",
   "metadata": {},
   "outputs": [
    {
     "data": {
      "text/plain": [
       "['hello', 'friend', 'like', 'python', 'program']"
      ]
     },
     "execution_count": 56,
     "metadata": {},
     "output_type": "execute_result"
    }
   ],
   "source": [
    "# remove stemming from the clean:\n",
    "\n",
    "stem_clean_ps = []\n",
    "\n",
    "for word in clean:\n",
    "    stem_clean_ps.append(ps.stem(word))\n",
    "    \n",
    "stem_clean_ps  \n",
    "\n",
    "# OR\n",
    "\n",
    "clean=[ps.stem(x) for x in clean]\n",
    "clean"
   ]
  },
  {
   "cell_type": "markdown",
   "id": "9c6371b4-faf9-431d-92d1-845630a895b5",
   "metadata": {},
   "source": [
    "# Lancaster Stemming"
   ]
  },
  {
   "cell_type": "code",
   "execution_count": 38,
   "id": "e730ff11-0725-4ec1-b22f-43135cf955f1",
   "metadata": {},
   "outputs": [],
   "source": [
    "from nltk.stem import LancasterStemmer"
   ]
  },
  {
   "cell_type": "code",
   "execution_count": 44,
   "id": "f860da3f-8fd0-48d6-a771-87260e910dbd",
   "metadata": {},
   "outputs": [
    {
     "data": {
      "text/plain": [
       "['hello', 'friend', 'lik', 'python', 'program']"
      ]
     },
     "execution_count": 44,
     "metadata": {},
     "output_type": "execute_result"
    }
   ],
   "source": [
    "ls = LancasterStemmer()\n",
    "\n",
    "stem_clean_ls = []\n",
    "\n",
    "for word in clean:\n",
    "    stem_clean_ls.append(ls.stem(word))\n",
    "    \n",
    "stem_clean_ls    "
   ]
  },
  {
   "cell_type": "code",
   "execution_count": 49,
   "id": "e3d6bcfc-31b9-4be3-989e-7f4c1da0afce",
   "metadata": {},
   "outputs": [
    {
     "name": "stdout",
     "output_type": "stream",
     "text": [
      "worked ==> work\n",
      "workable ==> work\n",
      "working ==> work\n",
      "worked ==> work\n"
     ]
    }
   ],
   "source": [
    "for word in words2:\n",
    "    print(word, '==>', ls.stem(word))"
   ]
  },
  {
   "cell_type": "markdown",
   "id": "9184762a-bfa5-4b39-b782-a9555ba6eeaf",
   "metadata": {},
   "source": [
    "# Snowball stemmer"
   ]
  },
  {
   "cell_type": "code",
   "execution_count": 50,
   "id": "fcb30853-2657-45a5-b1e4-927902083cd1",
   "metadata": {},
   "outputs": [],
   "source": [
    "from nltk.stem import SnowballStemmer"
   ]
  },
  {
   "cell_type": "code",
   "execution_count": 51,
   "id": "45355c80-4817-4a58-a8a8-d0194088772e",
   "metadata": {},
   "outputs": [
    {
     "name": "stdout",
     "output_type": "stream",
     "text": [
      "Help on class SnowballStemmer in module nltk.stem.snowball:\n",
      "\n",
      "class SnowballStemmer(nltk.stem.api.StemmerI)\n",
      " |  SnowballStemmer(language, ignore_stopwords=False)\n",
      " |  \n",
      " |  Snowball Stemmer\n",
      " |  \n",
      " |  The following languages are supported:\n",
      " |  Arabic, Danish, Dutch, English, Finnish, French, German,\n",
      " |  Hungarian, Italian, Norwegian, Portuguese, Romanian, Russian,\n",
      " |  Spanish and Swedish.\n",
      " |  \n",
      " |  The algorithm for English is documented here:\n",
      " |  \n",
      " |      Porter, M. \"An algorithm for suffix stripping.\"\n",
      " |      Program 14.3 (1980): 130-137.\n",
      " |  \n",
      " |  The algorithms have been developed by Martin Porter.\n",
      " |  These stemmers are called Snowball, because Porter created\n",
      " |  a programming language with this name for creating\n",
      " |  new stemming algorithms. There is more information available\n",
      " |  at http://snowball.tartarus.org/\n",
      " |  \n",
      " |  The stemmer is invoked as shown below:\n",
      " |  \n",
      " |  >>> from nltk.stem import SnowballStemmer # See which languages are supported\n",
      " |  >>> print(\" \".join(SnowballStemmer.languages)) # doctest: +NORMALIZE_WHITESPACE\n",
      " |  arabic danish dutch english finnish french german hungarian\n",
      " |  italian norwegian porter portuguese romanian russian\n",
      " |  spanish swedish\n",
      " |  >>> stemmer = SnowballStemmer(\"german\") # Choose a language\n",
      " |  >>> stemmer.stem(\"Autobahnen\") # Stem a word\n",
      " |  'autobahn'\n",
      " |  \n",
      " |  Invoking the stemmers that way is useful if you do not know the\n",
      " |  language to be stemmed at runtime. Alternatively, if you already know\n",
      " |  the language, then you can invoke the language specific stemmer directly:\n",
      " |  \n",
      " |  >>> from nltk.stem.snowball import GermanStemmer\n",
      " |  >>> stemmer = GermanStemmer()\n",
      " |  >>> stemmer.stem(\"Autobahnen\")\n",
      " |  'autobahn'\n",
      " |  \n",
      " |  :param language: The language whose subclass is instantiated.\n",
      " |  :type language: str or unicode\n",
      " |  :param ignore_stopwords: If set to True, stopwords are\n",
      " |                           not stemmed and returned unchanged.\n",
      " |                           Set to False by default.\n",
      " |  :type ignore_stopwords: bool\n",
      " |  :raise ValueError: If there is no stemmer for the specified\n",
      " |                         language, a ValueError is raised.\n",
      " |  \n",
      " |  Method resolution order:\n",
      " |      SnowballStemmer\n",
      " |      nltk.stem.api.StemmerI\n",
      " |      builtins.object\n",
      " |  \n",
      " |  Methods defined here:\n",
      " |  \n",
      " |  __init__(self, language, ignore_stopwords=False)\n",
      " |      Initialize self.  See help(type(self)) for accurate signature.\n",
      " |  \n",
      " |  stem(self, token)\n",
      " |      Strip affixes from the token and return the stem.\n",
      " |      \n",
      " |      :param token: The token that should be stemmed.\n",
      " |      :type token: str\n",
      " |  \n",
      " |  ----------------------------------------------------------------------\n",
      " |  Data and other attributes defined here:\n",
      " |  \n",
      " |  __abstractmethods__ = frozenset()\n",
      " |  \n",
      " |  languages = ('arabic', 'danish', 'dutch', 'english', 'finnish', 'frenc...\n",
      " |  \n",
      " |  ----------------------------------------------------------------------\n",
      " |  Data descriptors inherited from nltk.stem.api.StemmerI:\n",
      " |  \n",
      " |  __dict__\n",
      " |      dictionary for instance variables\n",
      " |  \n",
      " |  __weakref__\n",
      " |      list of weak references to the object\n",
      "\n"
     ]
    }
   ],
   "source": [
    "help(SnowballStemmer)"
   ]
  },
  {
   "cell_type": "code",
   "execution_count": 55,
   "id": "6885b9f3-7fc0-4d16-9699-f6643fea03ca",
   "metadata": {},
   "outputs": [
    {
     "name": "stdout",
     "output_type": "stream",
     "text": [
      "managing ==> manag\n",
      "manage ==> manag\n",
      "management ==> manag\n",
      "managerial ==> manageri\n",
      "managed ==> manag\n",
      "\n",
      "worked ==> work\n",
      "workable ==> workabl\n",
      "working ==> work\n",
      "worked ==> work\n",
      "\n",
      "big ==> big\n",
      "biggest ==> biggest\n",
      "bigger ==> bigger\n",
      "\n",
      "go ==> go\n",
      "gone ==> gone\n",
      "went ==> went\n",
      "going ==> go\n",
      "\n",
      "association ==> associ\n",
      "associated ==> associ\n",
      "associate ==> associ\n"
     ]
    }
   ],
   "source": [
    "ss = SnowballStemmer(language='english')\n",
    "\n",
    "for word in words1:\n",
    "    print(word, '==>', ss.stem(word))\n",
    "\n",
    "print()\n",
    "\n",
    "for word in words2:\n",
    "    print(word, '==>', ss.stem(word))\n",
    "    \n",
    "print()\n",
    "\n",
    "for word in words3:\n",
    "    print(word, '==>', ss.stem(word))\n",
    "\n",
    "print()\n",
    "\n",
    "for word in words4:\n",
    "    print(word, '==>', ss.stem(word))\n",
    "\n",
    "print()\n",
    "\n",
    "for word in words5:\n",
    "    print(word, '==>', ss.stem(word))"
   ]
  },
  {
   "cell_type": "code",
   "execution_count": null,
   "id": "6a4d503e-6854-49f8-8a1a-680477c46319",
   "metadata": {},
   "outputs": [],
   "source": []
  }
 ],
 "metadata": {
  "kernelspec": {
   "display_name": "Python 3 (ipykernel)",
   "language": "python",
   "name": "python3"
  },
  "language_info": {
   "codemirror_mode": {
    "name": "ipython",
    "version": 3
   },
   "file_extension": ".py",
   "mimetype": "text/x-python",
   "name": "python",
   "nbconvert_exporter": "python",
   "pygments_lexer": "ipython3",
   "version": "3.11.7"
  }
 },
 "nbformat": 4,
 "nbformat_minor": 5
}
