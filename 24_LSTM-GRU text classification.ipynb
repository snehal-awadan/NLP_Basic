{
 "cells": [
  {
   "cell_type": "code",
   "execution_count": 1,
   "id": "c581df85-b7a7-47ef-ba69-bcef4abfcaab",
   "metadata": {},
   "outputs": [
    {
     "name": "stdout",
     "output_type": "stream",
     "text": [
      "Defaulting to user installation because normal site-packages is not writeableNote: you may need to restart the kernel to use updated packages.\n",
      "\n",
      "Requirement already satisfied: tensorflow_datasets in c:\\users\\administrator.dai-pc2\\appdata\\roaming\\python\\python311\\site-packages (4.9.6)\n",
      "Requirement already satisfied: absl-py in c:\\users\\administrator.dai-pc2\\appdata\\roaming\\python\\python311\\site-packages (from tensorflow_datasets) (2.1.0)\n",
      "Requirement already satisfied: click in c:\\programdata\\anaconda3\\lib\\site-packages (from tensorflow_datasets) (8.1.7)\n",
      "Requirement already satisfied: dm-tree in c:\\users\\administrator.dai-pc2\\appdata\\roaming\\python\\python311\\site-packages (from tensorflow_datasets) (0.1.8)\n",
      "Requirement already satisfied: immutabledict in c:\\users\\administrator.dai-pc2\\appdata\\roaming\\python\\python311\\site-packages (from tensorflow_datasets) (4.2.0)\n",
      "Requirement already satisfied: numpy in c:\\programdata\\anaconda3\\lib\\site-packages (from tensorflow_datasets) (1.24.3)\n",
      "Requirement already satisfied: promise in c:\\users\\administrator.dai-pc2\\appdata\\roaming\\python\\python311\\site-packages (from tensorflow_datasets) (2.3)\n",
      "Requirement already satisfied: protobuf>=3.20 in c:\\users\\administrator.dai-pc2\\appdata\\roaming\\python\\python311\\site-packages (from tensorflow_datasets) (4.25.3)\n",
      "Requirement already satisfied: psutil in c:\\programdata\\anaconda3\\lib\\site-packages (from tensorflow_datasets) (5.9.0)\n",
      "Requirement already satisfied: pyarrow in c:\\programdata\\anaconda3\\lib\\site-packages (from tensorflow_datasets) (14.0.2)\n",
      "Requirement already satisfied: requests>=2.19.0 in c:\\programdata\\anaconda3\\lib\\site-packages (from tensorflow_datasets) (2.31.0)\n",
      "Requirement already satisfied: simple-parsing in c:\\users\\administrator.dai-pc2\\appdata\\roaming\\python\\python311\\site-packages (from tensorflow_datasets) (0.1.5)\n",
      "Requirement already satisfied: tensorflow-metadata in c:\\users\\administrator.dai-pc2\\appdata\\roaming\\python\\python311\\site-packages (from tensorflow_datasets) (1.15.0)\n",
      "Requirement already satisfied: termcolor in c:\\users\\administrator.dai-pc2\\appdata\\roaming\\python\\python311\\site-packages (from tensorflow_datasets) (2.4.0)\n",
      "Requirement already satisfied: toml in c:\\programdata\\anaconda3\\lib\\site-packages (from tensorflow_datasets) (0.10.2)\n",
      "Requirement already satisfied: tqdm in c:\\programdata\\anaconda3\\lib\\site-packages (from tensorflow_datasets) (4.65.0)\n",
      "Requirement already satisfied: wrapt in c:\\programdata\\anaconda3\\lib\\site-packages (from tensorflow_datasets) (1.14.1)\n",
      "Requirement already satisfied: etils>=1.9.1 in c:\\users\\administrator.dai-pc2\\appdata\\roaming\\python\\python311\\site-packages (from etils[enp,epath,epy,etree]>=1.9.1; python_version >= \"3.11\"->tensorflow_datasets) (1.9.1)\n",
      "Requirement already satisfied: fsspec in c:\\programdata\\anaconda3\\lib\\site-packages (from etils[enp,epath,epy,etree]>=1.9.1; python_version >= \"3.11\"->tensorflow_datasets) (2023.10.0)\n",
      "Requirement already satisfied: importlib_resources in c:\\users\\administrator.dai-pc2\\appdata\\roaming\\python\\python311\\site-packages (from etils[enp,epath,epy,etree]>=1.9.1; python_version >= \"3.11\"->tensorflow_datasets) (6.4.0)\n",
      "Requirement already satisfied: typing_extensions in c:\\programdata\\anaconda3\\lib\\site-packages (from etils[enp,epath,epy,etree]>=1.9.1; python_version >= \"3.11\"->tensorflow_datasets) (4.9.0)\n",
      "Requirement already satisfied: zipp in c:\\programdata\\anaconda3\\lib\\site-packages (from etils[enp,epath,epy,etree]>=1.9.1; python_version >= \"3.11\"->tensorflow_datasets) (3.17.0)\n",
      "Requirement already satisfied: charset-normalizer<4,>=2 in c:\\programdata\\anaconda3\\lib\\site-packages (from requests>=2.19.0->tensorflow_datasets) (2.0.4)\n",
      "Requirement already satisfied: idna<4,>=2.5 in c:\\programdata\\anaconda3\\lib\\site-packages (from requests>=2.19.0->tensorflow_datasets) (3.4)\n",
      "Requirement already satisfied: urllib3<3,>=1.21.1 in c:\\programdata\\anaconda3\\lib\\site-packages (from requests>=2.19.0->tensorflow_datasets) (2.0.7)\n",
      "Requirement already satisfied: certifi>=2017.4.17 in c:\\programdata\\anaconda3\\lib\\site-packages (from requests>=2.19.0->tensorflow_datasets) (2024.2.2)\n",
      "Requirement already satisfied: colorama in c:\\programdata\\anaconda3\\lib\\site-packages (from click->tensorflow_datasets) (0.4.6)\n",
      "Requirement already satisfied: six in c:\\programdata\\anaconda3\\lib\\site-packages (from promise->tensorflow_datasets) (1.16.0)\n",
      "Requirement already satisfied: docstring-parser~=0.15 in c:\\users\\administrator.dai-pc2\\appdata\\roaming\\python\\python311\\site-packages (from simple-parsing->tensorflow_datasets) (0.16)\n",
      "Requirement already satisfied: googleapis-common-protos<2,>=1.56.4 in c:\\users\\administrator.dai-pc2\\appdata\\roaming\\python\\python311\\site-packages (from tensorflow-metadata->tensorflow_datasets) (1.63.1)\n"
     ]
    }
   ],
   "source": [
    "pip install tensorflow_datasets"
   ]
  },
  {
   "cell_type": "code",
   "execution_count": 2,
   "id": "a0eb7e0b-cfd4-4cf3-b078-37a64a0bd3ed",
   "metadata": {},
   "outputs": [
    {
     "name": "stdout",
     "output_type": "stream",
     "text": [
      "WARNING:tensorflow:From C:\\Users\\Administrator.DAI-PC2\\AppData\\Roaming\\Python\\Python311\\site-packages\\keras\\src\\losses.py:2976: The name tf.losses.sparse_softmax_cross_entropy is deprecated. Please use tf.compat.v1.losses.sparse_softmax_cross_entropy instead.\n",
      "\n"
     ]
    }
   ],
   "source": [
    "import numpy as np\n",
    "import tensorflow as tf\n",
    "import tensorflow_datasets as tfds"
   ]
  },
  {
   "cell_type": "markdown",
   "id": "f97b3775-65ca-4d54-b707-d57b36cf26ea",
   "metadata": {},
   "source": [
    "#Read the dataset :imdb reviews"
   ]
  },
  {
   "cell_type": "code",
   "execution_count": 3,
   "id": "c542f4f4-aafc-4388-9301-87f7778bdd66",
   "metadata": {},
   "outputs": [],
   "source": [
    "imdb, info = tfds.load(\"imdb_reviews\",with_info=True,as_supervised=True)"
   ]
  },
  {
   "cell_type": "code",
   "execution_count": 4,
   "id": "c6f66fef-f3a9-4311-89d5-f43254ece9cf",
   "metadata": {},
   "outputs": [
    {
     "data": {
      "text/plain": [
       "{'train': <_PrefetchDataset element_spec=(TensorSpec(shape=(), dtype=tf.string, name=None), TensorSpec(shape=(), dtype=tf.int64, name=None))>,\n",
       " 'test': <_PrefetchDataset element_spec=(TensorSpec(shape=(), dtype=tf.string, name=None), TensorSpec(shape=(), dtype=tf.int64, name=None))>,\n",
       " 'unsupervised': <_PrefetchDataset element_spec=(TensorSpec(shape=(), dtype=tf.string, name=None), TensorSpec(shape=(), dtype=tf.int64, name=None))>}"
      ]
     },
     "execution_count": 4,
     "metadata": {},
     "output_type": "execute_result"
    }
   ],
   "source": [
    "imdb"
   ]
  },
  {
   "cell_type": "code",
   "execution_count": 5,
   "id": "0a86e1ea-c4ef-488e-aa96-fbcea4f48375",
   "metadata": {},
   "outputs": [
    {
     "data": {
      "text/plain": [
       "tensorflow.python.data.ops.prefetch_op._PrefetchDataset"
      ]
     },
     "execution_count": 5,
     "metadata": {},
     "output_type": "execute_result"
    }
   ],
   "source": [
    "train_data,test_data=imdb['train'],imdb['test']\n",
    "type(train_data)"
   ]
  },
  {
   "cell_type": "code",
   "execution_count": 6,
   "id": "e43a395d-7763-4538-b642-41d4daaf7deb",
   "metadata": {},
   "outputs": [],
   "source": [
    "training_sentences=[]\n",
    "training_labels=[]\n",
    "testing_sentences=[]\n",
    "testing_labels=[]\n",
    "\n",
    "# iterate through the training and testing data:\n",
    "# here, s=> input, l=> output\n",
    "\n",
    "for s,l in train_data:\n",
    "    training_sentences.append(str(s.numpy()))\n",
    "    training_labels.append(l.numpy())\n",
    "for s, l in test_data:\n",
    "    testing_sentences.append(str(s.numpy()))\n",
    "    testing_labels.append(l.numpy())"
   ]
  },
  {
   "cell_type": "code",
   "execution_count": 7,
   "id": "912dcb0b-020e-4977-8e79-3cc1ead3bca8",
   "metadata": {},
   "outputs": [
    {
     "data": {
      "text/plain": [
       "'b\"This was an absolutely terrible movie. Don\\'t be lured in by Christopher Walken or Michael Ironside. Both are great actors, but this must simply be their worst role in history. Even their great acting could not redeem this movie\\'s ridiculous storyline. This movie is an early nineties US propaganda piece. The most pathetic scenes were those when the Columbian rebels were making their cases for revolutions. Maria Conchita Alonso appeared phony, and her pseudo-love affair with Walken was nothing but a pathetic emotional plug in a movie that was devoid of any real meaning. I am disappointed that there are movies like this, ruining actor\\'s like Christopher Walken\\'s good name. I could barely sit through it.\"'"
      ]
     },
     "execution_count": 7,
     "metadata": {},
     "output_type": "execute_result"
    }
   ],
   "source": [
    "training_sentences[0]"
   ]
  },
  {
   "cell_type": "code",
   "execution_count": 8,
   "id": "9ffed8b1-aaa4-4f9a-86d5-24a68c68cf21",
   "metadata": {},
   "outputs": [
    {
     "data": {
      "text/plain": [
       "1"
      ]
     },
     "execution_count": 8,
     "metadata": {},
     "output_type": "execute_result"
    }
   ],
   "source": [
    "testing_labels[0]"
   ]
  },
  {
   "cell_type": "code",
   "execution_count": 9,
   "id": "3cd512cd-a222-4e4a-9c0d-ff480ad0c17c",
   "metadata": {},
   "outputs": [],
   "source": [
    "training_labels_final=np.array(training_labels)\n",
    "testing_labels_final=np.array(testing_labels)"
   ]
  },
  {
   "cell_type": "code",
   "execution_count": 10,
   "id": "069ad35f-073a-4af5-832f-36e066886ef1",
   "metadata": {},
   "outputs": [
    {
     "data": {
      "text/plain": [
       "(25000, 25000)"
      ]
     },
     "execution_count": 10,
     "metadata": {},
     "output_type": "execute_result"
    }
   ],
   "source": [
    "len(training_sentences),len(testing_sentences)"
   ]
  },
  {
   "cell_type": "code",
   "execution_count": 11,
   "id": "b143fcea-38fa-400e-ac1f-dc3a929e8445",
   "metadata": {},
   "outputs": [
    {
     "data": {
      "text/plain": [
       "(25000, 25000)"
      ]
     },
     "execution_count": 11,
     "metadata": {},
     "output_type": "execute_result"
    }
   ],
   "source": [
    "training_labels_final.size, testing_labels_final.size"
   ]
  },
  {
   "cell_type": "code",
   "execution_count": 12,
   "id": "db73e22c-87a0-46f2-8a03-6c0ceef767c2",
   "metadata": {},
   "outputs": [],
   "source": [
    "vocab_size = 10000\n",
    "embedding_dim = 16\n",
    "max_length = 120\n",
    "trunc_type = 'post' # padding  "
   ]
  },
  {
   "cell_type": "code",
   "execution_count": 13,
   "id": "d52d6132-dc9d-4e69-bd06-7b7c7f107d8f",
   "metadata": {},
   "outputs": [
    {
     "data": {
      "text/plain": [
       "86538"
      ]
     },
     "execution_count": 13,
     "metadata": {},
     "output_type": "execute_result"
    }
   ],
   "source": [
    "from keras.preprocessing.text import Tokenizer\n",
    "from tensorflow.keras.preprocessing.sequence import pad_sequences\n",
    "\n",
    "tokenizer = Tokenizer(num_words= vocab_size)\n",
    "tokenizer.fit_on_texts(training_sentences)\n",
    "word_index = tokenizer.word_index\n",
    "word_index;\n",
    "len(word_index)"
   ]
  },
  {
   "cell_type": "code",
   "execution_count": 14,
   "id": "e301e634-85b0-424c-b1b7-ed73f0ca7bef",
   "metadata": {},
   "outputs": [
    {
     "data": {
      "text/plain": [
       "{'the': 1,\n",
       " 'and': 2,\n",
       " 'a': 3,\n",
       " 'of': 4,\n",
       " 'to': 5,\n",
       " 'is': 6,\n",
       " 'br': 7,\n",
       " 'in': 8,\n",
       " 'it': 9,\n",
       " 'i': 10,\n",
       " 'this': 11,\n",
       " 'that': 12,\n",
       " 'was': 13,\n",
       " 'as': 14,\n",
       " 'for': 15,\n",
       " 'with': 16,\n",
       " 'movie': 17,\n",
       " 'but': 18,\n",
       " 'film': 19,\n",
       " \"'s\": 20,\n",
       " 'on': 21,\n",
       " 'you': 22,\n",
       " 'not': 23,\n",
       " 'are': 24,\n",
       " 'his': 25,\n",
       " 'he': 26,\n",
       " 'have': 27,\n",
       " 'be': 28,\n",
       " 'one': 29,\n",
       " 'all': 30,\n",
       " 'at': 31,\n",
       " 'by': 32,\n",
       " 'they': 33,\n",
       " 'an': 34,\n",
       " 'who': 35,\n",
       " 'so': 36,\n",
       " 'from': 37,\n",
       " 'like': 38,\n",
       " 'her': 39,\n",
       " \"'t\": 40,\n",
       " 'or': 41,\n",
       " 'just': 42,\n",
       " 'there': 43,\n",
       " 'about': 44,\n",
       " 'out': 45,\n",
       " \"'\": 46,\n",
       " 'has': 47,\n",
       " 'if': 48,\n",
       " 'some': 49,\n",
       " 'what': 50,\n",
       " 'good': 51,\n",
       " 'more': 52,\n",
       " 'very': 53,\n",
       " 'when': 54,\n",
       " 'she': 55,\n",
       " 'up': 56,\n",
       " 'can': 57,\n",
       " 'b': 58,\n",
       " 'time': 59,\n",
       " 'no': 60,\n",
       " 'even': 61,\n",
       " 'my': 62,\n",
       " 'would': 63,\n",
       " 'which': 64,\n",
       " 'story': 65,\n",
       " 'only': 66,\n",
       " 'really': 67,\n",
       " 'see': 68,\n",
       " 'their': 69,\n",
       " 'had': 70,\n",
       " 'were': 71,\n",
       " 'me': 72,\n",
       " 'well': 73,\n",
       " 'we': 74,\n",
       " 'than': 75,\n",
       " 'much': 76,\n",
       " 'been': 77,\n",
       " 'get': 78,\n",
       " 'bad': 79,\n",
       " 'will': 80,\n",
       " 'people': 81,\n",
       " 'do': 82,\n",
       " 'also': 83,\n",
       " 'other': 84,\n",
       " 'into': 85,\n",
       " 'because': 86,\n",
       " 'great': 87,\n",
       " 'first': 88,\n",
       " 'him': 89,\n",
       " 'how': 90,\n",
       " 'most': 91,\n",
       " 'made': 92,\n",
       " 'its': 93,\n",
       " 'then': 94,\n",
       " 'way': 95,\n",
       " 'make': 96,\n",
       " 'them': 97,\n",
       " 'could': 98,\n",
       " 'too': 99,\n",
       " 'movies': 100,\n",
       " 'any': 101,\n",
       " \"it's\": 102,\n",
       " 'after': 103,\n",
       " 'think': 104,\n",
       " 'characters': 105,\n",
       " 'watch': 106,\n",
       " 'two': 107,\n",
       " 'films': 108,\n",
       " 'character': 109,\n",
       " 'seen': 110,\n",
       " 'many': 111,\n",
       " 'life': 112,\n",
       " 'being': 113,\n",
       " 'plot': 114,\n",
       " 'acting': 115,\n",
       " 'never': 116,\n",
       " 'little': 117,\n",
       " 'love': 118,\n",
       " 'best': 119,\n",
       " 'where': 120,\n",
       " 'over': 121,\n",
       " 'did': 122,\n",
       " 'show': 123,\n",
       " 'know': 124,\n",
       " 'off': 125,\n",
       " 'ever': 126,\n",
       " 'does': 127,\n",
       " 'man': 128,\n",
       " 'better': 129,\n",
       " 'your': 130,\n",
       " 'here': 131,\n",
       " 'end': 132,\n",
       " 'still': 133,\n",
       " 'these': 134,\n",
       " 'say': 135,\n",
       " 'scene': 136,\n",
       " 'why': 137,\n",
       " 'while': 138,\n",
       " 'scenes': 139,\n",
       " 'go': 140,\n",
       " 'such': 141,\n",
       " 'something': 142,\n",
       " 'should': 143,\n",
       " 'through': 144,\n",
       " 'back': 145,\n",
       " 'don': 146,\n",
       " 'real': 147,\n",
       " 'those': 148,\n",
       " 'now': 149,\n",
       " 'watching': 150,\n",
       " 'though': 151,\n",
       " 'thing': 152,\n",
       " 'old': 153,\n",
       " 'years': 154,\n",
       " 'actors': 155,\n",
       " 'work': 156,\n",
       " 'director': 157,\n",
       " 'new': 158,\n",
       " 'another': 159,\n",
       " 'before': 160,\n",
       " 'funny': 161,\n",
       " 'nothing': 162,\n",
       " 'actually': 163,\n",
       " 'makes': 164,\n",
       " 'look': 165,\n",
       " 'find': 166,\n",
       " 'going': 167,\n",
       " 'few': 168,\n",
       " 'same': 169,\n",
       " 'part': 170,\n",
       " 'again': 171,\n",
       " 'lot': 172,\n",
       " \"don't\": 173,\n",
       " 'every': 174,\n",
       " '10': 175,\n",
       " 'cast': 176,\n",
       " 'us': 177,\n",
       " 'world': 178,\n",
       " 'quite': 179,\n",
       " 'down': 180,\n",
       " 'want': 181,\n",
       " 'things': 182,\n",
       " 'pretty': 183,\n",
       " 'young': 184,\n",
       " 'seems': 185,\n",
       " 'around': 186,\n",
       " 'got': 187,\n",
       " 'horror': 188,\n",
       " 'however': 189,\n",
       " 'fact': 190,\n",
       " 'take': 191,\n",
       " 'big': 192,\n",
       " 'enough': 193,\n",
       " 'long': 194,\n",
       " 'thought': 195,\n",
       " 'both': 196,\n",
       " 'series': 197,\n",
       " 'between': 198,\n",
       " 'may': 199,\n",
       " 'give': 200,\n",
       " 'original': 201,\n",
       " 'own': 202,\n",
       " 'action': 203,\n",
       " 'right': 204,\n",
       " 'without': 205,\n",
       " 'times': 206,\n",
       " 'always': 207,\n",
       " 'comedy': 208,\n",
       " 'point': 209,\n",
       " 'must': 210,\n",
       " 'gets': 211,\n",
       " 'role': 212,\n",
       " 'come': 213,\n",
       " 'family': 214,\n",
       " 'saw': 215,\n",
       " 'almost': 216,\n",
       " 'interesting': 217,\n",
       " 'least': 218,\n",
       " 'done': 219,\n",
       " 'whole': 220,\n",
       " 'bit': 221,\n",
       " 'music': 222,\n",
       " 'script': 223,\n",
       " 'guy': 224,\n",
       " 'far': 225,\n",
       " 'xc2': 226,\n",
       " 'anything': 227,\n",
       " 'making': 228,\n",
       " 'minutes': 229,\n",
       " 'feel': 230,\n",
       " 'last': 231,\n",
       " 'might': 232,\n",
       " 'performance': 233,\n",
       " 'since': 234,\n",
       " '2': 235,\n",
       " 'probably': 236,\n",
       " 'girl': 237,\n",
       " 'kind': 238,\n",
       " 'am': 239,\n",
       " 'away': 240,\n",
       " 'tv': 241,\n",
       " 'yet': 242,\n",
       " 'woman': 243,\n",
       " 'rather': 244,\n",
       " 'day': 245,\n",
       " \"'ve\": 246,\n",
       " 'worst': 247,\n",
       " 'fun': 248,\n",
       " 'sure': 249,\n",
       " 'hard': 250,\n",
       " \"'m\": 251,\n",
       " 'doesn': 252,\n",
       " 'anyone': 253,\n",
       " 'played': 254,\n",
       " \"b'i\": 255,\n",
       " 'each': 256,\n",
       " 'found': 257,\n",
       " 'xc3': 258,\n",
       " 'especially': 259,\n",
       " 'course': 260,\n",
       " 'our': 261,\n",
       " 'having': 262,\n",
       " 'believe': 263,\n",
       " 'comes': 264,\n",
       " 'screen': 265,\n",
       " 'looking': 266,\n",
       " 'although': 267,\n",
       " 'trying': 268,\n",
       " 'goes': 269,\n",
       " 'set': 270,\n",
       " 'looks': 271,\n",
       " 'place': 272,\n",
       " 'book': 273,\n",
       " 'different': 274,\n",
       " 'put': 275,\n",
       " 'money': 276,\n",
       " 'actor': 277,\n",
       " 'ending': 278,\n",
       " 'maybe': 279,\n",
       " 'year': 280,\n",
       " 'sense': 281,\n",
       " 'reason': 282,\n",
       " 'true': 283,\n",
       " 'everything': 284,\n",
       " 'dvd': 285,\n",
       " 'shows': 286,\n",
       " 'once': 287,\n",
       " 'didn': 288,\n",
       " 'someone': 289,\n",
       " 'three': 290,\n",
       " 'worth': 291,\n",
       " 'job': 292,\n",
       " \"'re\": 293,\n",
       " 'main': 294,\n",
       " 'together': 295,\n",
       " 'play': 296,\n",
       " 'watched': 297,\n",
       " 'american': 298,\n",
       " 'plays': 299,\n",
       " '1': 300,\n",
       " 'effects': 301,\n",
       " 'later': 302,\n",
       " 'said': 303,\n",
       " 'takes': 304,\n",
       " 'instead': 305,\n",
       " 'audience': 306,\n",
       " 'seem': 307,\n",
       " 'john': 308,\n",
       " 'beautiful': 309,\n",
       " 'everyone': 310,\n",
       " 'himself': 311,\n",
       " 'version': 312,\n",
       " 'house': 313,\n",
       " 'high': 314,\n",
       " 'night': 315,\n",
       " 'during': 316,\n",
       " 'left': 317,\n",
       " \"i'm\": 318,\n",
       " 'special': 319,\n",
       " 'wife': 320,\n",
       " 'seeing': 321,\n",
       " 'half': 322,\n",
       " 'let': 323,\n",
       " 'star': 324,\n",
       " 'father': 325,\n",
       " 'excellent': 326,\n",
       " 'shot': 327,\n",
       " 'war': 328,\n",
       " \"didn't\": 329,\n",
       " 'idea': 330,\n",
       " 'black': 331,\n",
       " 'nice': 332,\n",
       " 'less': 333,\n",
       " 'mind': 334,\n",
       " 'else': 335,\n",
       " 'read': 336,\n",
       " \"doesn't\": 337,\n",
       " 'second': 338,\n",
       " 'simply': 339,\n",
       " 'fan': 340,\n",
       " 'help': 341,\n",
       " 'death': 342,\n",
       " 'poor': 343,\n",
       " 'completely': 344,\n",
       " '3': 345,\n",
       " 'men': 346,\n",
       " 'used': 347,\n",
       " 'home': 348,\n",
       " 'either': 349,\n",
       " 'short': 350,\n",
       " 'hollywood': 351,\n",
       " 'line': 352,\n",
       " 'dead': 353,\n",
       " 'given': 354,\n",
       " 'top': 355,\n",
       " 'budget': 356,\n",
       " 'kids': 357,\n",
       " 'try': 358,\n",
       " \"b'this\": 359,\n",
       " 'performances': 360,\n",
       " 'wrong': 361,\n",
       " 'classic': 362,\n",
       " 'enjoy': 363,\n",
       " 'boring': 364,\n",
       " 'need': 365,\n",
       " 'rest': 366,\n",
       " 'use': 367,\n",
       " 'low': 368,\n",
       " 'women': 369,\n",
       " 'production': 370,\n",
       " 'isn': 371,\n",
       " 'friends': 372,\n",
       " 'until': 373,\n",
       " 'camera': 374,\n",
       " 'along': 375,\n",
       " 'full': 376,\n",
       " 'truly': 377,\n",
       " 'video': 378,\n",
       " 'awful': 379,\n",
       " 'next': 380,\n",
       " 'tell': 381,\n",
       " 'couple': 382,\n",
       " 'start': 383,\n",
       " 'stupid': 384,\n",
       " 'remember': 385,\n",
       " 'mean': 386,\n",
       " 'sex': 387,\n",
       " 'stars': 388,\n",
       " 'perhaps': 389,\n",
       " 'came': 390,\n",
       " 'recommend': 391,\n",
       " 'moments': 392,\n",
       " 'episode': 393,\n",
       " 'wonderful': 394,\n",
       " 'school': 395,\n",
       " 'understand': 396,\n",
       " 'small': 397,\n",
       " 'face': 398,\n",
       " 'terrible': 399,\n",
       " 'playing': 400,\n",
       " \"i've\": 401,\n",
       " 'getting': 402,\n",
       " 'written': 403,\n",
       " \"'ll\": 404,\n",
       " 'early': 405,\n",
       " 'doing': 406,\n",
       " 'often': 407,\n",
       " 'name': 408,\n",
       " 'keep': 409,\n",
       " 'perfect': 410,\n",
       " 'style': 411,\n",
       " 'human': 412,\n",
       " 'others': 413,\n",
       " 'gives': 414,\n",
       " 'definitely': 415,\n",
       " 'person': 416,\n",
       " 'itself': 417,\n",
       " 'lines': 418,\n",
       " 'live': 419,\n",
       " 'become': 420,\n",
       " \"can't\": 421,\n",
       " 'dialogue': 422,\n",
       " 'head': 423,\n",
       " 'lost': 424,\n",
       " 'piece': 425,\n",
       " 'case': 426,\n",
       " 'felt': 427,\n",
       " 'finally': 428,\n",
       " 'boy': 429,\n",
       " 'supposed': 430,\n",
       " 'liked': 431,\n",
       " 'title': 432,\n",
       " 'yes': 433,\n",
       " 'white': 434,\n",
       " 'cinema': 435,\n",
       " 'picture': 436,\n",
       " 'against': 437,\n",
       " 'absolutely': 438,\n",
       " 'mother': 439,\n",
       " 'sort': 440,\n",
       " 'worse': 441,\n",
       " 'entire': 442,\n",
       " 'certainly': 443,\n",
       " 'went': 444,\n",
       " 'waste': 445,\n",
       " 'problem': 446,\n",
       " 'hope': 447,\n",
       " 'entertaining': 448,\n",
       " 'evil': 449,\n",
       " 'mr': 450,\n",
       " 'overall': 451,\n",
       " 'called': 452,\n",
       " 'children': 453,\n",
       " 'loved': 454,\n",
       " 'based': 455,\n",
       " 'killer': 456,\n",
       " 'several': 457,\n",
       " 'friend': 458,\n",
       " 'fans': 459,\n",
       " \"that's\": 460,\n",
       " 'drama': 461,\n",
       " \"isn't\": 462,\n",
       " 'beginning': 463,\n",
       " 'lives': 464,\n",
       " 'direction': 465,\n",
       " '5': 466,\n",
       " 'care': 467,\n",
       " 'becomes': 468,\n",
       " 'already': 469,\n",
       " \"'d\": 470,\n",
       " 'laugh': 471,\n",
       " 'example': 472,\n",
       " 'oh': 473,\n",
       " 'dark': 474,\n",
       " 'under': 475,\n",
       " 'seemed': 476,\n",
       " 'throughout': 477,\n",
       " 'turn': 478,\n",
       " '4': 479,\n",
       " 'wanted': 480,\n",
       " 'unfortunately': 481,\n",
       " 'x96': 482,\n",
       " 'son': 483,\n",
       " 'despite': 484,\n",
       " 'history': 485,\n",
       " 'fine': 486,\n",
       " 'final': 487,\n",
       " 'sound': 488,\n",
       " 'heart': 489,\n",
       " 'amazing': 490,\n",
       " 'guess': 491,\n",
       " 'lead': 492,\n",
       " 'humor': 493,\n",
       " 'totally': 494,\n",
       " 'michael': 495,\n",
       " 'writing': 496,\n",
       " 'quality': 497,\n",
       " \"there's\": 498,\n",
       " 'guys': 499,\n",
       " 'close': 500,\n",
       " 'wants': 501,\n",
       " 'child': 502,\n",
       " 'behind': 503,\n",
       " 'works': 504,\n",
       " 'tries': 505,\n",
       " 'side': 506,\n",
       " 'art': 507,\n",
       " 'game': 508,\n",
       " 'past': 509,\n",
       " 'town': 510,\n",
       " 'days': 511,\n",
       " 'able': 512,\n",
       " 'flick': 513,\n",
       " 'hand': 514,\n",
       " 'turns': 515,\n",
       " 'genre': 516,\n",
       " 'act': 517,\n",
       " 'enjoyed': 518,\n",
       " 'viewer': 519,\n",
       " 'favorite': 520,\n",
       " 'kill': 521,\n",
       " 'car': 522,\n",
       " 'soon': 523,\n",
       " 'starts': 524,\n",
       " 'gave': 525,\n",
       " 'run': 526,\n",
       " 'sometimes': 527,\n",
       " 'etc': 528,\n",
       " 'actress': 529,\n",
       " 'eyes': 530,\n",
       " 'late': 531,\n",
       " 'directed': 532,\n",
       " 'horrible': 533,\n",
       " 'parts': 534,\n",
       " 'brilliant': 535,\n",
       " 'wasn': 536,\n",
       " 'girls': 537,\n",
       " 'themselves': 538,\n",
       " 'hour': 539,\n",
       " 'self': 540,\n",
       " 'stories': 541,\n",
       " 'thinking': 542,\n",
       " 'expect': 543,\n",
       " 'city': 544,\n",
       " 'stuff': 545,\n",
       " 'kid': 546,\n",
       " 'god': 547,\n",
       " 'won': 548,\n",
       " 'blood': 549,\n",
       " 'obviously': 550,\n",
       " 'decent': 551,\n",
       " 'voice': 552,\n",
       " 'highly': 553,\n",
       " 'myself': 554,\n",
       " 'feeling': 555,\n",
       " 'fight': 556,\n",
       " 'today': 557,\n",
       " 'matter': 558,\n",
       " 'except': 559,\n",
       " 'writer': 560,\n",
       " \"wasn't\": 561,\n",
       " 'slow': 562,\n",
       " 'type': 563,\n",
       " \"he's\": 564,\n",
       " 'anyway': 565,\n",
       " 'roles': 566,\n",
       " 'age': 567,\n",
       " 'killed': 568,\n",
       " 'heard': 569,\n",
       " 'says': 570,\n",
       " 'moment': 571,\n",
       " 'daughter': 572,\n",
       " 'took': 573,\n",
       " 'leave': 574,\n",
       " 'strong': 575,\n",
       " 'cannot': 576,\n",
       " 'violence': 577,\n",
       " 's': 578,\n",
       " 'hit': 579,\n",
       " 'police': 580,\n",
       " 'stop': 581,\n",
       " 'happens': 582,\n",
       " 'particularly': 583,\n",
       " 'known': 584,\n",
       " 'happened': 585,\n",
       " 'involved': 586,\n",
       " 'brother': 587,\n",
       " 'obvious': 588,\n",
       " 'extremely': 589,\n",
       " 'chance': 590,\n",
       " 'told': 591,\n",
       " 'living': 592,\n",
       " 'experience': 593,\n",
       " 'lack': 594,\n",
       " 'coming': 595,\n",
       " 'alone': 596,\n",
       " 'james': 597,\n",
       " 'including': 598,\n",
       " 'murder': 599,\n",
       " 'attempt': 600,\n",
       " 'happen': 601,\n",
       " 'please': 602,\n",
       " 'wonder': 603,\n",
       " 'gore': 604,\n",
       " 'crap': 605,\n",
       " 'ago': 606,\n",
       " 'group': 607,\n",
       " 'complete': 608,\n",
       " 'none': 609,\n",
       " 'interest': 610,\n",
       " 'score': 611,\n",
       " 'cut': 612,\n",
       " 'simple': 613,\n",
       " 'hell': 614,\n",
       " 'save': 615,\n",
       " 'hero': 616,\n",
       " 'looked': 617,\n",
       " 'number': 618,\n",
       " 'song': 619,\n",
       " 'career': 620,\n",
       " 'husband': 621,\n",
       " 'possible': 622,\n",
       " 'annoying': 623,\n",
       " 'shown': 624,\n",
       " 'sad': 625,\n",
       " 'exactly': 626,\n",
       " 'seriously': 627,\n",
       " 'running': 628,\n",
       " 'musical': 629,\n",
       " 'serious': 630,\n",
       " 'yourself': 631,\n",
       " 'david': 632,\n",
       " 'whose': 633,\n",
       " 'taken': 634,\n",
       " 'cinematography': 635,\n",
       " 'released': 636,\n",
       " 'ends': 637,\n",
       " 'scary': 638,\n",
       " 'hours': 639,\n",
       " 'reality': 640,\n",
       " 'english': 641,\n",
       " 'usually': 642,\n",
       " 'light': 643,\n",
       " 'opening': 644,\n",
       " 'jokes': 645,\n",
       " 'across': 646,\n",
       " 'body': 647,\n",
       " 'hilarious': 648,\n",
       " 'somewhat': 649,\n",
       " 'relationship': 650,\n",
       " 'started': 651,\n",
       " 'usual': 652,\n",
       " 'view': 653,\n",
       " 'cool': 654,\n",
       " 'level': 655,\n",
       " 'ridiculous': 656,\n",
       " 'change': 657,\n",
       " 'opinion': 658,\n",
       " 'happy': 659,\n",
       " 'wish': 660,\n",
       " 'king': 661,\n",
       " 'middle': 662,\n",
       " 'novel': 663,\n",
       " 'taking': 664,\n",
       " 'ones': 665,\n",
       " 'talking': 666,\n",
       " 'ok': 667,\n",
       " 'finds': 668,\n",
       " 'order': 669,\n",
       " 'shots': 670,\n",
       " 'documentary': 671,\n",
       " 'saying': 672,\n",
       " 'female': 673,\n",
       " 'huge': 674,\n",
       " 'room': 675,\n",
       " 'mostly': 676,\n",
       " 'power': 677,\n",
       " 'episodes': 678,\n",
       " 'robert': 679,\n",
       " 'important': 680,\n",
       " 'talent': 681,\n",
       " 'rating': 682,\n",
       " 'word': 683,\n",
       " 'turned': 684,\n",
       " 'strange': 685,\n",
       " 'major': 686,\n",
       " 'five': 687,\n",
       " 'modern': 688,\n",
       " 'call': 689,\n",
       " 'single': 690,\n",
       " 'disappointed': 691,\n",
       " 'country': 692,\n",
       " 'apparently': 693,\n",
       " 'events': 694,\n",
       " 'due': 695,\n",
       " 'songs': 696,\n",
       " 'attention': 697,\n",
       " 'earth': 698,\n",
       " '7': 699,\n",
       " 'four': 700,\n",
       " 'television': 701,\n",
       " 'jack': 702,\n",
       " 'knows': 703,\n",
       " 'comic': 704,\n",
       " 'supporting': 705,\n",
       " 'basically': 706,\n",
       " 'non': 707,\n",
       " 'clearly': 708,\n",
       " 'knew': 709,\n",
       " 'british': 710,\n",
       " 'future': 711,\n",
       " 'fast': 712,\n",
       " '8': 713,\n",
       " 'class': 714,\n",
       " 'cheap': 715,\n",
       " 'thriller': 716,\n",
       " 'silly': 717,\n",
       " 'problems': 718,\n",
       " 'tells': 719,\n",
       " 'easily': 720,\n",
       " 'miss': 721,\n",
       " 'local': 722,\n",
       " 'paul': 723,\n",
       " 'words': 724,\n",
       " 'sequence': 725,\n",
       " 'entertainment': 726,\n",
       " 'bring': 727,\n",
       " 'beyond': 728,\n",
       " 'rock': 729,\n",
       " 'upon': 730,\n",
       " 'oscar': 731,\n",
       " 'straight': 732,\n",
       " 'whether': 733,\n",
       " 'sets': 734,\n",
       " 'moving': 735,\n",
       " 'predictable': 736,\n",
       " 'similar': 737,\n",
       " 'romantic': 738,\n",
       " 'review': 739,\n",
       " 'falls': 740,\n",
       " 'george': 741,\n",
       " 'mystery': 742,\n",
       " 'needs': 743,\n",
       " 'appears': 744,\n",
       " 'enjoyable': 745,\n",
       " 'eye': 746,\n",
       " 'giving': 747,\n",
       " 'clich': 748,\n",
       " 'talk': 749,\n",
       " 'lady': 750,\n",
       " 'within': 751,\n",
       " 'richard': 752,\n",
       " \"b'\": 753,\n",
       " 'ten': 754,\n",
       " 'animation': 755,\n",
       " 'message': 756,\n",
       " 'theater': 757,\n",
       " 'near': 758,\n",
       " 'couldn': 759,\n",
       " 'above': 760,\n",
       " 'theme': 761,\n",
       " 'team': 762,\n",
       " 'nearly': 763,\n",
       " 'sequel': 764,\n",
       " 'points': 765,\n",
       " 'dull': 766,\n",
       " 'stand': 767,\n",
       " \"you're\": 768,\n",
       " 'bunch': 769,\n",
       " 'mention': 770,\n",
       " 'herself': 771,\n",
       " 'add': 772,\n",
       " 'feels': 773,\n",
       " 'release': 774,\n",
       " \"b'the\": 775,\n",
       " 'storyline': 776,\n",
       " 'ways': 777,\n",
       " 'sister': 778,\n",
       " 'surprised': 779,\n",
       " 'red': 780,\n",
       " 'named': 781,\n",
       " 'using': 782,\n",
       " 'york': 783,\n",
       " 'lots': 784,\n",
       " 'fantastic': 785,\n",
       " 'easy': 786,\n",
       " 'begins': 787,\n",
       " 'actual': 788,\n",
       " 't': 789,\n",
       " 'working': 790,\n",
       " 'effort': 791,\n",
       " 'lee': 792,\n",
       " 'tale': 793,\n",
       " 'die': 794,\n",
       " 'minute': 795,\n",
       " 'hate': 796,\n",
       " 'clear': 797,\n",
       " 'french': 798,\n",
       " 'stay': 799,\n",
       " 'feature': 800,\n",
       " 'elements': 801,\n",
       " 'viewers': 802,\n",
       " 'among': 803,\n",
       " '9': 804,\n",
       " 'follow': 805,\n",
       " 're': 806,\n",
       " 'comments': 807,\n",
       " 'showing': 808,\n",
       " 'avoid': 809,\n",
       " 'editing': 810,\n",
       " 'tried': 811,\n",
       " 'typical': 812,\n",
       " 'famous': 813,\n",
       " 'fall': 814,\n",
       " 'dialog': 815,\n",
       " 'tom': 816,\n",
       " 'season': 817,\n",
       " 'period': 818,\n",
       " 'check': 819,\n",
       " 'form': 820,\n",
       " 'soundtrack': 821,\n",
       " 'certain': 822,\n",
       " 'filmed': 823,\n",
       " 'sorry': 824,\n",
       " 'means': 825,\n",
       " 'buy': 826,\n",
       " 'material': 827,\n",
       " 'peter': 828,\n",
       " 'weak': 829,\n",
       " 'realistic': 830,\n",
       " 'figure': 831,\n",
       " 'crime': 832,\n",
       " 'doubt': 833,\n",
       " 'somehow': 834,\n",
       " 'gone': 835,\n",
       " 'general': 836,\n",
       " 'kept': 837,\n",
       " 'parents': 838,\n",
       " 'leads': 839,\n",
       " 'viewing': 840,\n",
       " 'space': 841,\n",
       " 'greatest': 842,\n",
       " 'suspense': 843,\n",
       " 'dance': 844,\n",
       " 'lame': 845,\n",
       " 'third': 846,\n",
       " 'brought': 847,\n",
       " 'atmosphere': 848,\n",
       " 'hear': 849,\n",
       " 'particular': 850,\n",
       " 'imagine': 851,\n",
       " 'sequences': 852,\n",
       " 'move': 853,\n",
       " 'whatever': 854,\n",
       " 'indeed': 855,\n",
       " 'rent': 856,\n",
       " 'eventually': 857,\n",
       " 'learn': 858,\n",
       " 'de': 859,\n",
       " 'deal': 860,\n",
       " 'reviews': 861,\n",
       " 'zombie': 862,\n",
       " 'wait': 863,\n",
       " 'japanese': 864,\n",
       " 'average': 865,\n",
       " 'sexual': 866,\n",
       " 'note': 867,\n",
       " 'premise': 868,\n",
       " 'forget': 869,\n",
       " 'poorly': 870,\n",
       " 'surprise': 871,\n",
       " 'believable': 872,\n",
       " 'sit': 873,\n",
       " 'disney': 874,\n",
       " 'stage': 875,\n",
       " 'nature': 876,\n",
       " 'possibly': 877,\n",
       " 'decided': 878,\n",
       " 'subject': 879,\n",
       " 'expected': 880,\n",
       " 'became': 881,\n",
       " 'truth': 882,\n",
       " 'free': 883,\n",
       " 'screenplay': 884,\n",
       " 'america': 885,\n",
       " 'difficult': 886,\n",
       " 'killing': 887,\n",
       " 'xa9': 888,\n",
       " 'romance': 889,\n",
       " 'imdb': 890,\n",
       " '20': 891,\n",
       " 'nor': 892,\n",
       " 'dr': 893,\n",
       " 'question': 894,\n",
       " 'street': 895,\n",
       " 'leaves': 896,\n",
       " 'needed': 897,\n",
       " 'baby': 898,\n",
       " 'reading': 899,\n",
       " \"couldn't\": 900,\n",
       " 'hot': 901,\n",
       " 'begin': 902,\n",
       " 'meets': 903,\n",
       " 'dog': 904,\n",
       " 'directors': 905,\n",
       " 'credits': 906,\n",
       " 'unless': 907,\n",
       " 'joe': 908,\n",
       " 'write': 909,\n",
       " 'otherwise': 910,\n",
       " 'superb': 911,\n",
       " 'society': 912,\n",
       " 'shame': 913,\n",
       " 'okay': 914,\n",
       " 'situation': 915,\n",
       " 'dramatic': 916,\n",
       " 'memorable': 917,\n",
       " 'weird': 918,\n",
       " 'open': 919,\n",
       " 'badly': 920,\n",
       " 'earlier': 921,\n",
       " 'male': 922,\n",
       " 'meet': 923,\n",
       " 'acted': 924,\n",
       " 'forced': 925,\n",
       " 'emotional': 926,\n",
       " 'sci': 927,\n",
       " 'fi': 928,\n",
       " 'dream': 929,\n",
       " 'laughs': 930,\n",
       " 'writers': 931,\n",
       " 'older': 932,\n",
       " 'realize': 933,\n",
       " 'interested': 934,\n",
       " 'forward': 935,\n",
       " 'footage': 936,\n",
       " 'comment': 937,\n",
       " 'crazy': 938,\n",
       " 'beauty': 939,\n",
       " 'fantasy': 940,\n",
       " 'deep': 941,\n",
       " 'whom': 942,\n",
       " 'sounds': 943,\n",
       " 'plus': 944,\n",
       " 'monster': 945,\n",
       " 'directing': 946,\n",
       " 'keeps': 947,\n",
       " 'ask': 948,\n",
       " 'development': 949,\n",
       " 'features': 950,\n",
       " 'air': 951,\n",
       " 'mess': 952,\n",
       " 'quickly': 953,\n",
       " 'mark': 954,\n",
       " 'd': 955,\n",
       " 'creepy': 956,\n",
       " 'box': 957,\n",
       " 'perfectly': 958,\n",
       " 'towards': 959,\n",
       " 'worked': 960,\n",
       " 'setting': 961,\n",
       " 'result': 962,\n",
       " 'cheesy': 963,\n",
       " 'unique': 964,\n",
       " 'e': 965,\n",
       " 'brings': 966,\n",
       " 'plenty': 967,\n",
       " 'hands': 968,\n",
       " 'effect': 969,\n",
       " 'total': 970,\n",
       " 'previous': 971,\n",
       " 'jane': 972,\n",
       " 'girlfriend': 973,\n",
       " 'fire': 974,\n",
       " 'personal': 975,\n",
       " 'rate': 976,\n",
       " 'bill': 977,\n",
       " 'incredibly': 978,\n",
       " 'business': 979,\n",
       " 'leading': 980,\n",
       " 'joke': 981,\n",
       " 'admit': 982,\n",
       " 'casting': 983,\n",
       " 'appear': 984,\n",
       " 'background': 985,\n",
       " 'powerful': 986,\n",
       " 'apart': 987,\n",
       " 'present': 988,\n",
       " 'telling': 989,\n",
       " 'christmas': 990,\n",
       " 'meant': 991,\n",
       " 'potential': 992,\n",
       " 'battle': 993,\n",
       " 'create': 994,\n",
       " 'break': 995,\n",
       " 'hardly': 996,\n",
       " 'return': 997,\n",
       " 'era': 998,\n",
       " \"you'll\": 999,\n",
       " 'masterpiece': 1000,\n",
       " ...}"
      ]
     },
     "execution_count": 14,
     "metadata": {},
     "output_type": "execute_result"
    }
   ],
   "source": [
    "word_index"
   ]
  },
  {
   "cell_type": "code",
   "execution_count": 15,
   "id": "d95ef22c-67c2-494e-8580-1c7ed0ef8911",
   "metadata": {},
   "outputs": [],
   "source": [
    "sequences = tokenizer.texts_to_sequences(training_sentences)\n",
    "padded = pad_sequences(sequences, maxlen=max_length, truncating=trunc_type)\n",
    "\n",
    "testing_sequences = tokenizer.texts_to_sequences(testing_sentences)\n",
    "testing_padded = pad_sequences(testing_sequences, maxlen= max_length)\n"
   ]
  },
  {
   "cell_type": "code",
   "execution_count": 16,
   "id": "f80b936e-419f-412d-bb01-ba8b2bd38184",
   "metadata": {},
   "outputs": [
    {
     "data": {
      "text/plain": [
       "25000"
      ]
     },
     "execution_count": 16,
     "metadata": {},
     "output_type": "execute_result"
    }
   ],
   "source": [
    "len(sequences)"
   ]
  },
  {
   "cell_type": "code",
   "execution_count": 17,
   "id": "849a7a94-5322-4d5e-b929-3a911dd2f650",
   "metadata": {},
   "outputs": [
    {
     "data": {
      "text/plain": [
       "110"
      ]
     },
     "execution_count": 17,
     "metadata": {},
     "output_type": "execute_result"
    }
   ],
   "source": [
    "len(sequences[0])"
   ]
  },
  {
   "cell_type": "code",
   "execution_count": 18,
   "id": "b9cad01c-91f3-46c8-8b16-6c1e5616454d",
   "metadata": {},
   "outputs": [
    {
     "data": {
      "text/plain": [
       "120"
      ]
     },
     "execution_count": 18,
     "metadata": {},
     "output_type": "execute_result"
    }
   ],
   "source": [
    "# after padding size:\n",
    "len(padded[0])"
   ]
  },
  {
   "cell_type": "code",
   "execution_count": 19,
   "id": "72a50c6b-7e2d-4397-9753-e8e312630711",
   "metadata": {},
   "outputs": [
    {
     "data": {
      "text/plain": [
       "(25000, 120)"
      ]
     },
     "execution_count": 19,
     "metadata": {},
     "output_type": "execute_result"
    }
   ],
   "source": [
    "padded.shape"
   ]
  },
  {
   "cell_type": "code",
   "execution_count": 20,
   "id": "dfd2a401-c5c9-405f-b5bc-b29e03f071c9",
   "metadata": {},
   "outputs": [
    {
     "data": {
      "text/plain": [
       "(25000, 120)"
      ]
     },
     "execution_count": 20,
     "metadata": {},
     "output_type": "execute_result"
    }
   ],
   "source": [
    "testing_padded.shape"
   ]
  },
  {
   "cell_type": "code",
   "execution_count": 21,
   "id": "9c4b568a-1fc4-4883-8c77-3fbef4667a04",
   "metadata": {},
   "outputs": [
    {
     "data": {
      "text/plain": [
       "dtype('int32')"
      ]
     },
     "execution_count": 21,
     "metadata": {},
     "output_type": "execute_result"
    }
   ],
   "source": [
    "padded.dtype"
   ]
  },
  {
   "cell_type": "markdown",
   "id": "e948f7cc-1e54-42fc-972f-b0eec5306a00",
   "metadata": {},
   "source": [
    "# Build the simpleRNN model:"
   ]
  },
  {
   "cell_type": "code",
   "execution_count": 22,
   "id": "9889cff4-b414-449d-aa01-7c5cd1bfe4e1",
   "metadata": {},
   "outputs": [],
   "source": [
    "from keras.models import Sequential\n",
    "from keras.layers import Dense,SimpleRNN,Embedding"
   ]
  },
  {
   "cell_type": "code",
   "execution_count": 23,
   "id": "bd7e4451-0866-4ef1-a73f-6c0d042ca741",
   "metadata": {},
   "outputs": [
    {
     "name": "stdout",
     "output_type": "stream",
     "text": [
      "WARNING:tensorflow:From C:\\Users\\Administrator.DAI-PC2\\AppData\\Roaming\\Python\\Python311\\site-packages\\keras\\src\\backend.py:873: The name tf.get_default_graph is deprecated. Please use tf.compat.v1.get_default_graph instead.\n",
      "\n"
     ]
    },
    {
     "name": "stderr",
     "output_type": "stream",
     "text": [
      "WARNING:tensorflow:From C:\\Users\\Administrator.DAI-PC2\\AppData\\Roaming\\Python\\Python311\\site-packages\\keras\\src\\backend.py:873: The name tf.get_default_graph is deprecated. Please use tf.compat.v1.get_default_graph instead.\n",
      "\n"
     ]
    },
    {
     "name": "stdout",
     "output_type": "stream",
     "text": [
      "Model: \"sequential\"\n",
      "_________________________________________________________________\n",
      " Layer (type)                Output Shape              Param #   \n",
      "=================================================================\n",
      " embedding (Embedding)       (None, 120, 16)           160000    \n",
      "                                                                 \n",
      " simple_rnn (SimpleRNN)      (None, 32)                1568      \n",
      "                                                                 \n",
      " dense (Dense)               (None, 10)                330       \n",
      "                                                                 \n",
      " dense_1 (Dense)             (None, 1)                 11        \n",
      "                                                                 \n",
      "=================================================================\n",
      "Total params: 161909 (632.46 KB)\n",
      "Trainable params: 161909 (632.46 KB)\n",
      "Non-trainable params: 0 (0.00 Byte)\n",
      "_________________________________________________________________\n"
     ]
    }
   ],
   "source": [
    "model_rnn=Sequential([\n",
    "    Embedding(vocab_size,embedding_dim,input_length=max_length),\n",
    "    SimpleRNN(32),\n",
    "    Dense(10,activation='relu'),\n",
    "    Dense(1,activation='sigmoid')])\n",
    "\n",
    "model_rnn.summary()"
   ]
  },
  {
   "cell_type": "code",
   "execution_count": 24,
   "id": "9e9d95a6-2a29-453a-b6ae-062537515626",
   "metadata": {},
   "outputs": [],
   "source": [
    "# Compile the RNN model"
   ]
  },
  {
   "cell_type": "code",
   "execution_count": 25,
   "id": "541c174e-adaa-4619-98eb-d5927c7c5e4b",
   "metadata": {},
   "outputs": [
    {
     "name": "stdout",
     "output_type": "stream",
     "text": [
      "WARNING:tensorflow:From C:\\Users\\Administrator.DAI-PC2\\AppData\\Roaming\\Python\\Python311\\site-packages\\keras\\src\\optimizers\\__init__.py:309: The name tf.train.Optimizer is deprecated. Please use tf.compat.v1.train.Optimizer instead.\n",
      "\n"
     ]
    },
    {
     "name": "stderr",
     "output_type": "stream",
     "text": [
      "WARNING:tensorflow:From C:\\Users\\Administrator.DAI-PC2\\AppData\\Roaming\\Python\\Python311\\site-packages\\keras\\src\\optimizers\\__init__.py:309: The name tf.train.Optimizer is deprecated. Please use tf.compat.v1.train.Optimizer instead.\n",
      "\n"
     ]
    }
   ],
   "source": [
    "model_rnn.compile(loss='binary_crossentropy', optimizer='adam', metrics=[\"accuracy\"])"
   ]
  },
  {
   "cell_type": "code",
   "execution_count": 26,
   "id": "0194b961-120f-459a-a531-08322bedae13",
   "metadata": {},
   "outputs": [
    {
     "name": "stdout",
     "output_type": "stream",
     "text": [
      "Epoch 1/10\n",
      "WARNING:tensorflow:From C:\\Users\\Administrator.DAI-PC2\\AppData\\Roaming\\Python\\Python311\\site-packages\\keras\\src\\utils\\tf_utils.py:492: The name tf.ragged.RaggedTensorValue is deprecated. Please use tf.compat.v1.ragged.RaggedTensorValue instead.\n",
      "\n"
     ]
    },
    {
     "name": "stderr",
     "output_type": "stream",
     "text": [
      "WARNING:tensorflow:From C:\\Users\\Administrator.DAI-PC2\\AppData\\Roaming\\Python\\Python311\\site-packages\\keras\\src\\utils\\tf_utils.py:492: The name tf.ragged.RaggedTensorValue is deprecated. Please use tf.compat.v1.ragged.RaggedTensorValue instead.\n",
      "\n"
     ]
    },
    {
     "name": "stdout",
     "output_type": "stream",
     "text": [
      "WARNING:tensorflow:From C:\\Users\\Administrator.DAI-PC2\\AppData\\Roaming\\Python\\Python311\\site-packages\\keras\\src\\engine\\base_layer_utils.py:384: The name tf.executing_eagerly_outside_functions is deprecated. Please use tf.compat.v1.executing_eagerly_outside_functions instead.\n",
      "\n"
     ]
    },
    {
     "name": "stderr",
     "output_type": "stream",
     "text": [
      "WARNING:tensorflow:From C:\\Users\\Administrator.DAI-PC2\\AppData\\Roaming\\Python\\Python311\\site-packages\\keras\\src\\engine\\base_layer_utils.py:384: The name tf.executing_eagerly_outside_functions is deprecated. Please use tf.compat.v1.executing_eagerly_outside_functions instead.\n",
      "\n"
     ]
    },
    {
     "name": "stdout",
     "output_type": "stream",
     "text": [
      "782/782 [==============================] - 33s 40ms/step - loss: 0.6932 - accuracy: 0.4960 - val_loss: 0.6932 - val_accuracy: 0.5000\n",
      "Epoch 2/10\n",
      "782/782 [==============================] - 30s 39ms/step - loss: 0.6932 - accuracy: 0.5004 - val_loss: 0.6931 - val_accuracy: 0.5000\n",
      "Epoch 3/10\n",
      "782/782 [==============================] - 29s 38ms/step - loss: 0.6938 - accuracy: 0.5051 - val_loss: 0.6939 - val_accuracy: 0.5249\n",
      "Epoch 4/10\n",
      "782/782 [==============================] - 31s 39ms/step - loss: 0.6712 - accuracy: 0.5904 - val_loss: 0.6460 - val_accuracy: 0.6214\n",
      "Epoch 5/10\n",
      "782/782 [==============================] - 30s 38ms/step - loss: 0.5842 - accuracy: 0.6940 - val_loss: 0.6250 - val_accuracy: 0.6555\n",
      "Epoch 6/10\n",
      "782/782 [==============================] - 30s 39ms/step - loss: 0.4603 - accuracy: 0.7891 - val_loss: 0.5367 - val_accuracy: 0.7536\n",
      "Epoch 7/10\n",
      "782/782 [==============================] - 31s 40ms/step - loss: 0.3863 - accuracy: 0.8316 - val_loss: 0.5600 - val_accuracy: 0.7585\n",
      "Epoch 8/10\n",
      "782/782 [==============================] - 31s 39ms/step - loss: 0.3405 - accuracy: 0.8573 - val_loss: 0.5663 - val_accuracy: 0.7748\n",
      "Epoch 9/10\n",
      "782/782 [==============================] - 30s 38ms/step - loss: 0.3598 - accuracy: 0.8452 - val_loss: 0.7036 - val_accuracy: 0.6897\n",
      "Epoch 10/10\n",
      "782/782 [==============================] - 30s 39ms/step - loss: 0.3449 - accuracy: 0.8534 - val_loss: 0.6174 - val_accuracy: 0.7468\n"
     ]
    }
   ],
   "source": [
    "history = model_rnn.fit(padded,training_labels_final,epochs=10,validation_data=(testing_padded,testing_labels_final))"
   ]
  },
  {
   "cell_type": "code",
   "execution_count": 27,
   "id": "42ad5b12-3fe4-494c-9492-417fa115ec27",
   "metadata": {},
   "outputs": [
    {
     "data": {
      "text/plain": [
       "<matplotlib.legend.Legend at 0x1957d026a10>"
      ]
     },
     "execution_count": 27,
     "metadata": {},
     "output_type": "execute_result"
    },
    {
     "data": {
      "image/png": "[encoded data removed]",
      "text/plain": [
       "<Figure size 640x480 with 1 Axes>"
      ]
     },
     "metadata": {},
     "output_type": "display_data"
    }
   ],
   "source": [
    "import matplotlib.pyplot as plt\n",
    "\n",
    "plt.title('Simple RNN')\n",
    "plt.xlabel('Epochs')\n",
    "plt.plot(range(1,11), history.history['loss'], color = 'r', label = 'loss', marker = '.')\n",
    "plt.plot(range(1,11), history.history['accuracy'], color = 'g', label = 'accuracy', marker = '.')\n",
    "plt.plot(range(1,11), history.history['val_loss'], color = 'b', label = 'val_loss', marker = '.')\n",
    "plt.plot(range(1,11), history.history['val_accuracy'], color = 'm', label = 'val_accuracy', marker = '.')\n",
    "plt.legend(loc = 'upper left')\n"
   ]
  },
  {
   "cell_type": "markdown",
   "id": "e8d71ccf-5972-41e6-88c5-c3023459407e",
   "metadata": {},
   "source": [
    "# Build model With LSTM:"
   ]
  },
  {
   "cell_type": "code",
   "execution_count": 28,
   "id": "efdd19ec-f06a-4434-8b98-dad22bd2576f",
   "metadata": {},
   "outputs": [],
   "source": [
    "from keras.layers import Bidirectional, GRU, LSTM"
   ]
  },
  {
   "cell_type": "code",
   "execution_count": 29,
   "id": "395ed327-c308-4f94-861e-34e70435902b",
   "metadata": {},
   "outputs": [
    {
     "name": "stdout",
     "output_type": "stream",
     "text": [
      "Model: \"sequential_1\"\n",
      "_________________________________________________________________\n",
      " Layer (type)                Output Shape              Param #   \n",
      "=================================================================\n",
      " embedding_1 (Embedding)     (None, 120, 16)           160000    \n",
      "                                                                 \n",
      " bidirectional (Bidirection  (None, 64)                12544     \n",
      " al)                                                             \n",
      "                                                                 \n",
      " dense_2 (Dense)             (None, 10)                650       \n",
      "                                                                 \n",
      " dense_3 (Dense)             (None, 1)                 11        \n",
      "                                                                 \n",
      "=================================================================\n",
      "Total params: 173205 (676.58 KB)\n",
      "Trainable params: 173205 (676.58 KB)\n",
      "Non-trainable params: 0 (0.00 Byte)\n",
      "_________________________________________________________________\n"
     ]
    }
   ],
   "source": [
    "model_lstm=Sequential([\n",
    "    Embedding(vocab_size,embedding_dim,input_length=max_length),\n",
    "    Bidirectional(LSTM(32)),\n",
    "    Dense(10,activation='relu'),\n",
    "    Dense(1,activation='sigmoid')])\n",
    "\n",
    "model_lstm.summary()"
   ]
  },
  {
   "cell_type": "code",
   "execution_count": 30,
   "id": "97514c30-c4b3-49ac-9abd-f5343be78ca2",
   "metadata": {},
   "outputs": [],
   "source": [
    "# Compile LSTM model:\n",
    "\n",
    "model_lstm.compile(loss='binary_crossentropy', optimizer='adam', metrics=[\"accuracy\"])"
   ]
  },
  {
   "cell_type": "code",
   "execution_count": 31,
   "id": "1a3ed056-8924-4dd0-bc4e-75dffaa30b87",
   "metadata": {},
   "outputs": [
    {
     "name": "stdout",
     "output_type": "stream",
     "text": [
      "Epoch 1/10\n",
      "782/782 [==============================] - 52s 61ms/step - loss: 0.4711 - accuracy: 0.7660 - val_loss: 0.3405 - val_accuracy: 0.8553\n",
      "Epoch 2/10\n",
      "782/782 [==============================] - 48s 62ms/step - loss: 0.2953 - accuracy: 0.8843 - val_loss: 0.3651 - val_accuracy: 0.8450\n",
      "Epoch 3/10\n",
      "782/782 [==============================] - 48s 62ms/step - loss: 0.2318 - accuracy: 0.9124 - val_loss: 0.4344 - val_accuracy: 0.8403\n",
      "Epoch 4/10\n",
      "782/782 [==============================] - 48s 61ms/step - loss: 0.1833 - accuracy: 0.9337 - val_loss: 0.4606 - val_accuracy: 0.8374\n",
      "Epoch 5/10\n",
      "782/782 [==============================] - 48s 61ms/step - loss: 0.1554 - accuracy: 0.9451 - val_loss: 0.4864 - val_accuracy: 0.8306\n",
      "Epoch 6/10\n",
      "782/782 [==============================] - 47s 61ms/step - loss: 0.1357 - accuracy: 0.9515 - val_loss: 0.5244 - val_accuracy: 0.8300\n",
      "Epoch 7/10\n",
      "782/782 [==============================] - 47s 61ms/step - loss: 0.1069 - accuracy: 0.9638 - val_loss: 0.6077 - val_accuracy: 0.8149\n",
      "Epoch 8/10\n",
      "782/782 [==============================] - 47s 60ms/step - loss: 0.0964 - accuracy: 0.9672 - val_loss: 0.6712 - val_accuracy: 0.8162\n",
      "Epoch 9/10\n",
      "782/782 [==============================] - 47s 59ms/step - loss: 0.0766 - accuracy: 0.9744 - val_loss: 0.7303 - val_accuracy: 0.8164\n",
      "Epoch 10/10\n",
      "782/782 [==============================] - 46s 59ms/step - loss: 0.0616 - accuracy: 0.9800 - val_loss: 0.7037 - val_accuracy: 0.8190\n"
     ]
    }
   ],
   "source": [
    "history_lstm = model_lstm.fit(padded,training_labels_final, epochs=10, validation_data = (testing_padded, testing_labels_final))"
   ]
  },
  {
   "cell_type": "code",
   "execution_count": 32,
   "id": "74b3c739-7e04-4c80-a207-ee0710d51c36",
   "metadata": {},
   "outputs": [
    {
     "data": {
      "text/plain": [
       "<matplotlib.legend.Legend at 0x1957f770410>"
      ]
     },
     "execution_count": 32,
     "metadata": {},
     "output_type": "execute_result"
    },
    {
     "data": {
      "image/png": "[encoded data removed]",
      "text/plain": [
       "<Figure size 640x480 with 1 Axes>"
      ]
     },
     "metadata": {},
     "output_type": "display_data"
    }
   ],
   "source": [
    "import matplotlib.pyplot as plt\n",
    "\n",
    "plt.title('Bidirectional LSTM')\n",
    "plt.xlabel('Epochs')\n",
    "plt.plot(range(1,11), history_lstm.history['loss'], color = 'r', label = 'loss', marker = '.')\n",
    "plt.plot(range(1,11), history_lstm.history['accuracy'], color = 'g', label = 'accuracy', marker = '.')\n",
    "plt.plot(range(1,11), history_lstm.history['val_loss'], color = 'b', label = 'val_loss', marker = '.')\n",
    "plt.plot(range(1,11), history_lstm.history['val_accuracy'], color = 'm', label = 'val_accuracy', marker = '.')\n",
    "plt.legend(loc = 'upper left')"
   ]
  },
  {
   "cell_type": "markdown",
   "id": "ebbf63a7-abad-4c86-a508-cabf8a602d5f",
   "metadata": {},
   "source": [
    "# Build model with GRU:"
   ]
  },
  {
   "cell_type": "code",
   "execution_count": 34,
   "id": "1cda1dd3-1873-4628-b86b-05a8a738e312",
   "metadata": {},
   "outputs": [
    {
     "name": "stdout",
     "output_type": "stream",
     "text": [
      "Model: \"sequential_2\"\n",
      "_________________________________________________________________\n",
      " Layer (type)                Output Shape              Param #   \n",
      "=================================================================\n",
      " embedding_3 (Embedding)     (None, 120, 16)           160000    \n",
      "                                                                 \n",
      " bidirectional_1 (Bidirecti  (None, 64)                9600      \n",
      " onal)                                                           \n",
      "                                                                 \n",
      " dense_4 (Dense)             (None, 10)                650       \n",
      "                                                                 \n",
      " dense_5 (Dense)             (None, 1)                 11        \n",
      "                                                                 \n",
      "=================================================================\n",
      "Total params: 170261 (665.08 KB)\n",
      "Trainable params: 170261 (665.08 KB)\n",
      "Non-trainable params: 0 (0.00 Byte)\n",
      "_________________________________________________________________\n"
     ]
    }
   ],
   "source": [
    "model_gru = Sequential([\n",
    "    Embedding(vocab_size,embedding_dim,input_length=max_length),\n",
    "    Bidirectional(GRU(32)),\n",
    "    Dense(10,activation='relu'),\n",
    "    Dense(1,activation='sigmoid')])\n",
    "\n",
    "model_gru.summary()"
   ]
  },
  {
   "cell_type": "code",
   "execution_count": 35,
   "id": "6e935755-3768-499c-8306-2cfd14c17930",
   "metadata": {},
   "outputs": [],
   "source": [
    "# Compile GRU model:\n",
    "\n",
    "model_gru.compile(loss='binary_crossentropy', optimizer='adam', metrics=[\"accuracy\"])"
   ]
  },
  {
   "cell_type": "code",
   "execution_count": 36,
   "id": "1487cb85-9c8c-479c-90ce-a89bf1349eb0",
   "metadata": {},
   "outputs": [
    {
     "name": "stdout",
     "output_type": "stream",
     "text": [
      "Epoch 1/10\n",
      "782/782 [==============================] - 56s 66ms/step - loss: 0.5338 - accuracy: 0.7068 - val_loss: 0.4002 - val_accuracy: 0.8221\n",
      "Epoch 2/10\n",
      "782/782 [==============================] - 51s 65ms/step - loss: 0.3087 - accuracy: 0.8765 - val_loss: 0.3442 - val_accuracy: 0.8504\n",
      "Epoch 3/10\n",
      "782/782 [==============================] - 52s 66ms/step - loss: 0.2381 - accuracy: 0.9108 - val_loss: 0.3706 - val_accuracy: 0.8437\n",
      "Epoch 4/10\n",
      "782/782 [==============================] - 50s 64ms/step - loss: 0.1845 - accuracy: 0.9330 - val_loss: 0.3859 - val_accuracy: 0.8407\n",
      "Epoch 5/10\n",
      "782/782 [==============================] - 50s 64ms/step - loss: 0.1418 - accuracy: 0.9512 - val_loss: 0.4853 - val_accuracy: 0.8311\n",
      "Epoch 6/10\n",
      "782/782 [==============================] - 51s 65ms/step - loss: 0.0994 - accuracy: 0.9675 - val_loss: 0.5524 - val_accuracy: 0.8308\n",
      "Epoch 7/10\n",
      "782/782 [==============================] - 51s 65ms/step - loss: 0.0710 - accuracy: 0.9768 - val_loss: 0.6576 - val_accuracy: 0.8290\n",
      "Epoch 8/10\n",
      "782/782 [==============================] - 51s 65ms/step - loss: 0.0456 - accuracy: 0.9854 - val_loss: 0.8450 - val_accuracy: 0.8252\n",
      "Epoch 9/10\n",
      "782/782 [==============================] - 50s 65ms/step - loss: 0.0363 - accuracy: 0.9886 - val_loss: 0.9006 - val_accuracy: 0.8214\n",
      "Epoch 10/10\n",
      "782/782 [==============================] - 51s 65ms/step - loss: 0.0245 - accuracy: 0.9922 - val_loss: 1.0309 - val_accuracy: 0.8204\n"
     ]
    }
   ],
   "source": [
    "history_gru = model_gru.fit(padded,training_labels_final, epochs=10, validation_data = (testing_padded, testing_labels_final))"
   ]
  },
  {
   "cell_type": "code",
   "execution_count": 38,
   "id": "ad21036e-38bf-41fe-8b15-efd46d2c3717",
   "metadata": {},
   "outputs": [
    {
     "data": {
      "text/plain": [
       "<matplotlib.legend.Legend at 0x1950884f090>"
      ]
     },
     "execution_count": 38,
     "metadata": {},
     "output_type": "execute_result"
    },
    {
     "data": {
      "image/png": "[encoded data removed]",
      "text/plain": [
       "<Figure size 640x480 with 1 Axes>"
      ]
     },
     "metadata": {},
     "output_type": "display_data"
    }
   ],
   "source": [
    "import matplotlib.pyplot as plt\n",
    "\n",
    "plt.title('Bidirectional GRU')\n",
    "plt.xlabel('Epochs')\n",
    "plt.plot(range(1,11), history_gru.history['loss'], color = 'r', label = 'loss', marker = '.')\n",
    "plt.plot(range(1,11), history_gru.history['accuracy'], color = 'g', label = 'accuracy', marker = '.')\n",
    "plt.plot(range(1,11), history_gru.history['val_loss'], color = 'b', label = 'val_loss', marker = '.')\n",
    "plt.plot(range(1,11), history_gru.history['val_accuracy'], color = 'm', label = 'val_accuracy', marker = '.')\n",
    "plt.legend(loc = 'upper left')"
   ]
  },
  {
   "cell_type": "markdown",
   "id": "b440d144-fa24-4fa7-9c17-cb9d2788a083",
   "metadata": {},
   "source": [
    "# All Models Accuracies:"
   ]
  },
  {
   "cell_type": "code",
   "execution_count": 41,
   "id": "6546ed30-c079-40ef-919f-cdf6d03839dc",
   "metadata": {},
   "outputs": [
    {
     "data": {
      "text/plain": [
       "<matplotlib.legend.Legend at 0x19505ec1190>"
      ]
     },
     "execution_count": 41,
     "metadata": {},
     "output_type": "execute_result"
    },
    {
     "data": {
      "image/png": "[encoded data removed]",
      "text/plain": [
       "<Figure size 1600x800 with 2 Axes>"
      ]
     },
     "metadata": {},
     "output_type": "display_data"
    }
   ],
   "source": [
    "plt.figure(figsize = (16,8))\n",
    "\n",
    "plt.subplot(1,2,1)\n",
    "plt.title('Accuracies')\n",
    "plt.xlabel('Epochs')\n",
    "plt.grid()\n",
    "plt.plot(range(1,11), history.history['accuracy'], color = 'r', label = 'RNN', marker = '.')\n",
    "plt.plot(range(1,11), history_lstm.history['accuracy'], color = 'g', label = 'LSTM', marker = '.')\n",
    "plt.plot(range(1,11), history_gru.history['accuracy'], color = 'b', label = 'GRU', marker = '.')\n",
    "plt.legend(loc = 'upper left')\n",
    "\n",
    "plt.subplot(1,2,2)\n",
    "plt.title('Loss')\n",
    "plt.xlabel('Epochs')\n",
    "plt.grid()\n",
    "plt.plot(range(1,11), history.history['loss'], color = 'r', label = 'RNN', marker = '.')\n",
    "plt.plot(range(1,11), history_lstm.history['loss'], color = 'g', label = 'LSTM', marker = '.')\n",
    "plt.plot(range(1,11), history_gru.history['loss'], color = 'b', label = 'GRU', marker = '.')\n",
    "\n",
    "plt.legend(loc = 'upper left')"
   ]
  },
  {
   "cell_type": "code",
   "execution_count": 43,
   "id": "22c8a250-be49-49c9-9fc2-c8bfc6da4c62",
   "metadata": {},
   "outputs": [
    {
     "data": {
      "text/plain": [
       "<matplotlib.legend.Legend at 0x1950bab0b10>"
      ]
     },
     "execution_count": 43,
     "metadata": {},
     "output_type": "execute_result"
    },
    {
     "data": {
      "image/png": "[encoded data removed]",
      "text/plain": [
       "<Figure size 1600x800 with 2 Axes>"
      ]
     },
     "metadata": {},
     "output_type": "display_data"
    }
   ],
   "source": [
    "plt.figure(figsize = (16,8))\n",
    "\n",
    "plt.subplot(1,2,1)\n",
    "plt.title('val - Accuracies')\n",
    "plt.xlabel('Epochs')\n",
    "plt.grid()\n",
    "plt.plot(range(1,11), history.history['val_accuracy'], color = 'r', label = 'RNN', marker = '.')\n",
    "plt.plot(range(1,11), history_lstm.history['val_accuracy'], color = 'g', label = 'LSTM', marker = '.')\n",
    "plt.plot(range(1,11), history_gru.history['val_accuracy'], color = 'b', label = 'GRU', marker = '.')\n",
    "plt.legend(loc = 'upper left')\n",
    "\n",
    "plt.subplot(1,2,2)\n",
    "plt.title('val - Loss')\n",
    "plt.xlabel('Epochs')\n",
    "plt.grid()\n",
    "plt.plot(range(1,11), history.history['val_loss'], color = 'r', label = 'RNN', marker = '.')\n",
    "plt.plot(range(1,11), history_lstm.history['val_loss'], color = 'g', label = 'LSTM', marker = '.')\n",
    "plt.plot(range(1,11), history_gru.history['val_loss'], color = 'b', label = 'GRU', marker = '.')\n",
    "\n",
    "plt.legend(loc = 'upper left')"
   ]
  },
  {
   "cell_type": "markdown",
   "id": "f59a7e78-6c94-4ecc-a003-c73ad1235654",
   "metadata": {},
   "source": [
    "# Predict for the given reviews:"
   ]
  },
  {
   "cell_type": "code",
   "execution_count": 44,
   "id": "56a55ab6-0ca0-41c8-b8e4-527f941ebbc7",
   "metadata": {},
   "outputs": [],
   "source": [
    "new1 = 'This was worst movie. Please do not watch it. Waste of money and time.'\n",
    "\n",
    "new2 = 'A must watch movie. I loved to watch it. It was just amazing!'"
   ]
  },
  {
   "cell_type": "code",
   "execution_count": 61,
   "id": "92ff3794-840d-4294-93c9-6deb4fc6d867",
   "metadata": {},
   "outputs": [],
   "source": [
    "# create one function to find the result and probability:\n",
    "\n",
    "def predict(model, text):\n",
    "    sequences = tokenizer.texts_to_sequences([text])\n",
    "    padded = pad_sequences(sequences, maxlen = max_length, truncating=trunc_type )\n",
    "    \n",
    "    res = model.predict(padded, verbose = False)\n",
    "    perc_pos = res[0,0]\n",
    "\n",
    "    if round(perc_pos)==0:\n",
    "        return((1-perc_pos), 'negative')\n",
    "    else:\n",
    "        return((perc_pos), 'positive')\n",
    "    "
   ]
  },
  {
   "cell_type": "code",
   "execution_count": 64,
   "id": "c075d8fb-c394-4e42-acdd-6f2715f08ed8",
   "metadata": {},
   "outputs": [
    {
     "data": {
      "text/plain": [
       "((0.9999970928513449, 'negative'), (0.9999482, 'positive'))"
      ]
     },
     "execution_count": 64,
     "metadata": {},
     "output_type": "execute_result"
    }
   ],
   "source": [
    "predict(model_gru, new1), predict(model_gru, new2)"
   ]
  },
  {
   "cell_type": "code",
   "execution_count": null,
   "id": "d9bccfd7-b9b0-498f-90e0-153bdb952ad0",
   "metadata": {},
   "outputs": [],
   "source": []
  }
 ],
 "metadata": {
  "kernelspec": {
   "display_name": "Python 3 (ipykernel)",
   "language": "python",
   "name": "python3"
  },
  "language_info": {
   "codemirror_mode": {
    "name": "ipython",
    "version": 3
   },
   "file_extension": ".py",
   "mimetype": "text/x-python",
   "name": "python",
   "nbconvert_exporter": "python",
   "pygments_lexer": "ipython3",
   "version": "3.11.7"
  }
 },
 "nbformat": 4,
 "nbformat_minor": 5
}
