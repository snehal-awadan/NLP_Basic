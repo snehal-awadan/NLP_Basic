{
 "cells": [
  {
   "cell_type": "code",
   "execution_count": 1,
   "id": "c4e1a85b",
   "metadata": {},
   "outputs": [
    {
     "name": "stdout",
     "output_type": "stream",
     "text": [
      "Collecting indic_transliteration\n",
      "  Downloading indic_transliteration-2.3.59-py3-none-any.whl.metadata (1.4 kB)\n",
      "Requirement already satisfied: backports.functools-lru-cache in c:\\users\\rohit\\anaconda3\\lib\\site-packages (from indic_transliteration) (1.6.4)\n",
      "Requirement already satisfied: regex in c:\\users\\rohit\\anaconda3\\lib\\site-packages (from indic_transliteration) (2023.10.3)\n",
      "Requirement already satisfied: typer in c:\\users\\rohit\\anaconda3\\lib\\site-packages (from indic_transliteration) (0.9.4)\n",
      "Requirement already satisfied: toml in c:\\users\\rohit\\anaconda3\\lib\\site-packages (from indic_transliteration) (0.10.2)\n",
      "Collecting roman (from indic_transliteration)\n",
      "  Downloading roman-4.2-py3-none-any.whl.metadata (3.6 kB)\n",
      "Requirement already satisfied: click<9.0.0,>=7.1.1 in c:\\users\\rohit\\anaconda3\\lib\\site-packages (from typer->indic_transliteration) (8.1.7)\n",
      "Requirement already satisfied: typing-extensions>=3.7.4.3 in c:\\users\\rohit\\anaconda3\\lib\\site-packages (from typer->indic_transliteration) (4.9.0)\n",
      "Requirement already satisfied: colorama in c:\\users\\rohit\\anaconda3\\lib\\site-packages (from click<9.0.0,>=7.1.1->typer->indic_transliteration) (0.4.6)\n",
      "Downloading indic_transliteration-2.3.59-py3-none-any.whl (152 kB)\n",
      "   ---------------------------------------- 0.0/152.1 kB ? eta -:--:--\n",
      "   ----- ---------------------------------- 20.5/152.1 kB ? eta -:--:--\n",
      "   -------------------------------- ------- 122.9/152.1 kB 1.4 MB/s eta 0:00:01\n",
      "   ---------------------------------------- 152.1/152.1 kB 1.5 MB/s eta 0:00:00\n",
      "Downloading roman-4.2-py3-none-any.whl (5.5 kB)\n",
      "Installing collected packages: roman, indic_transliteration\n",
      "Successfully installed indic_transliteration-2.3.59 roman-4.2\n",
      "Note: you may need to restart the kernel to use updated packages.\n"
     ]
    }
   ],
   "source": [
    "pip install indic_transliteration"
   ]
  },
  {
   "cell_type": "code",
   "execution_count": 2,
   "id": "04fc45c3",
   "metadata": {},
   "outputs": [],
   "source": [
    "from indic_transliteration import sanscript\n",
    "from indic_transliteration.sanscript import transliterate"
   ]
  },
  {
   "cell_type": "code",
   "execution_count": 4,
   "id": "182aa0ed",
   "metadata": {},
   "outputs": [
    {
     "name": "stdout",
     "output_type": "stream",
     "text": [
      "स्नेहल्\n",
      "স্নেহল্\n",
      "સ્નેહલ્\n",
      "സ്നേഹല്\n"
     ]
    }
   ],
   "source": [
    "print(transliterate('snehal', sanscript.ITRANS, sanscript.DEVANAGARI))\n",
    "print(transliterate('snehal', sanscript.ITRANS, sanscript.BENGALI))\n",
    "print(transliterate('snehal', sanscript.ITRANS, sanscript.GUJARATI))\n",
    "print(transliterate('snehal', sanscript.ITRANS, sanscript.MALAYALAM))"
   ]
  },
  {
   "cell_type": "code",
   "execution_count": 5,
   "id": "46d7b359",
   "metadata": {},
   "outputs": [
    {
     "name": "stdout",
     "output_type": "stream",
     "text": [
      "चिकु\n",
      "চিকু\n",
      "ચિકુ\n",
      "ചികു\n"
     ]
    }
   ],
   "source": [
    "print(transliterate('chiku', sanscript.ITRANS, sanscript.DEVANAGARI))\n",
    "print(transliterate('chiku', sanscript.ITRANS, sanscript.BENGALI))\n",
    "print(transliterate('chiku', sanscript.ITRANS, sanscript.GUJARATI))\n",
    "print(transliterate('chiku', sanscript.ITRANS, sanscript.MALAYALAM))\n"
   ]
  },
  {
   "cell_type": "code",
   "execution_count": null,
   "id": "227307b1",
   "metadata": {},
   "outputs": [],
   "source": []
  }
 ],
 "metadata": {
  "kernelspec": {
   "display_name": "Python 3 (ipykernel)",
   "language": "python",
   "name": "python3"
  },
  "language_info": {
   "codemirror_mode": {
    "name": "ipython",
    "version": 3
   },
   "file_extension": ".py",
   "mimetype": "text/x-python",
   "name": "python",
   "nbconvert_exporter": "python",
   "pygments_lexer": "ipython3",
   "version": "3.11.7"
  }
 },
 "nbformat": 4,
 "nbformat_minor": 5
}
