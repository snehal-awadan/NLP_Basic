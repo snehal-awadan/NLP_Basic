{
 "cells": [
  {
   "cell_type": "code",
   "execution_count": 1,
   "id": "7080468c",
   "metadata": {},
   "outputs": [],
   "source": [
    "import pandas as pd\n",
    "from nltk.tokenize import word_tokenize"
   ]
  },
  {
   "cell_type": "code",
   "execution_count": 2,
   "id": "1f754a42",
   "metadata": {},
   "outputs": [],
   "source": [
    "sentence_1 = \"It is a good practice for us.\"\n",
    "sentence_2 = \"It was also good to know about it\""
   ]
  },
  {
   "cell_type": "markdown",
   "id": "989bec30",
   "metadata": {},
   "source": [
    "# Using word_tokenize"
   ]
  },
  {
   "cell_type": "code",
   "execution_count": 5,
   "id": "d0fa8297",
   "metadata": {},
   "outputs": [
    {
     "data": {
      "text/plain": [
       "['it',\n",
       " 'is',\n",
       " 'a',\n",
       " 'good',\n",
       " 'practice',\n",
       " 'for',\n",
       " 'us',\n",
       " '.',\n",
       " 'it',\n",
       " 'was',\n",
       " 'also',\n",
       " 'good',\n",
       " 'to',\n",
       " 'know',\n",
       " 'about',\n",
       " 'it']"
      ]
     },
     "execution_count": 5,
     "metadata": {},
     "output_type": "execute_result"
    }
   ],
   "source": [
    "# Concat the sents and applly word tokenize:\n",
    "\n",
    "token = word_tokenize(sentence_1.lower()) + word_tokenize(sentence_2.lower())\n",
    "token"
   ]
  },
  {
   "cell_type": "code",
   "execution_count": 8,
   "id": "371ea0ce",
   "metadata": {},
   "outputs": [
    {
     "data": {
      "text/plain": [
       "{'.',\n",
       " 'a',\n",
       " 'about',\n",
       " 'also',\n",
       " 'for',\n",
       " 'good',\n",
       " 'is',\n",
       " 'it',\n",
       " 'know',\n",
       " 'practice',\n",
       " 'to',\n",
       " 'us',\n",
       " 'was'}"
      ]
     },
     "execution_count": 8,
     "metadata": {},
     "output_type": "execute_result"
    }
   ],
   "source": [
    "# remove duplication\n",
    "token = set(token)\n",
    "token"
   ]
  },
  {
   "cell_type": "code",
   "execution_count": 10,
   "id": "153e947a",
   "metadata": {
    "scrolled": true
   },
   "outputs": [
    {
     "data": {
      "text/html": [
       "<div>\n",
       "<style scoped>\n",
       "    .dataframe tbody tr th:only-of-type {\n",
       "        vertical-align: middle;\n",
       "    }\n",
       "\n",
       "    .dataframe tbody tr th {\n",
       "        vertical-align: top;\n",
       "    }\n",
       "\n",
       "    .dataframe thead th {\n",
       "        text-align: right;\n",
       "    }\n",
       "</style>\n",
       "<table border=\"1\" class=\"dataframe\">\n",
       "  <thead>\n",
       "    <tr style=\"text-align: right;\">\n",
       "      <th></th>\n",
       "      <th>know</th>\n",
       "      <th>practice</th>\n",
       "      <th>it</th>\n",
       "      <th>us</th>\n",
       "      <th>.</th>\n",
       "      <th>was</th>\n",
       "      <th>for</th>\n",
       "      <th>is</th>\n",
       "      <th>a</th>\n",
       "      <th>also</th>\n",
       "      <th>about</th>\n",
       "      <th>to</th>\n",
       "      <th>good</th>\n",
       "    </tr>\n",
       "  </thead>\n",
       "  <tbody>\n",
       "    <tr>\n",
       "      <th>1</th>\n",
       "      <td>NaN</td>\n",
       "      <td>NaN</td>\n",
       "      <td>NaN</td>\n",
       "      <td>NaN</td>\n",
       "      <td>NaN</td>\n",
       "      <td>NaN</td>\n",
       "      <td>NaN</td>\n",
       "      <td>NaN</td>\n",
       "      <td>NaN</td>\n",
       "      <td>NaN</td>\n",
       "      <td>NaN</td>\n",
       "      <td>NaN</td>\n",
       "      <td>NaN</td>\n",
       "    </tr>\n",
       "    <tr>\n",
       "      <th>2</th>\n",
       "      <td>NaN</td>\n",
       "      <td>NaN</td>\n",
       "      <td>NaN</td>\n",
       "      <td>NaN</td>\n",
       "      <td>NaN</td>\n",
       "      <td>NaN</td>\n",
       "      <td>NaN</td>\n",
       "      <td>NaN</td>\n",
       "      <td>NaN</td>\n",
       "      <td>NaN</td>\n",
       "      <td>NaN</td>\n",
       "      <td>NaN</td>\n",
       "      <td>NaN</td>\n",
       "    </tr>\n",
       "  </tbody>\n",
       "</table>\n",
       "</div>"
      ],
      "text/plain": [
       "  know practice   it   us    .  was  for   is    a also about   to good\n",
       "1  NaN      NaN  NaN  NaN  NaN  NaN  NaN  NaN  NaN  NaN   NaN  NaN  NaN\n",
       "2  NaN      NaN  NaN  NaN  NaN  NaN  NaN  NaN  NaN  NaN   NaN  NaN  NaN"
      ]
     },
     "execution_count": 10,
     "metadata": {},
     "output_type": "execute_result"
    }
   ],
   "source": [
    "# create df:\n",
    "# take col as unique words\n",
    "\n",
    "df = pd.DataFrame({}, index = [1,2], columns=list(token))\n",
    "df"
   ]
  },
  {
   "cell_type": "code",
   "execution_count": 11,
   "id": "fc1e2c56",
   "metadata": {},
   "outputs": [],
   "source": [
    "token1 = word_tokenize(sentence_1.lower())\n",
    "token2 = word_tokenize(sentence_1.lower())"
   ]
  },
  {
   "cell_type": "code",
   "execution_count": 12,
   "id": "f8b20f66",
   "metadata": {},
   "outputs": [],
   "source": [
    "# calculate the count:\n",
    "count1 = [token1.count(x) for x in df.columns]\n",
    "count2 = [token2.count(x) for x in df.columns]"
   ]
  },
  {
   "cell_type": "code",
   "execution_count": 13,
   "id": "97471bc0",
   "metadata": {},
   "outputs": [],
   "source": [
    "df.iloc[0,:] = count1\n",
    "df.iloc[1,:] = count2"
   ]
  },
  {
   "cell_type": "code",
   "execution_count": 14,
   "id": "3133f2ae",
   "metadata": {},
   "outputs": [
    {
     "data": {
      "text/html": [
       "<div>\n",
       "<style scoped>\n",
       "    .dataframe tbody tr th:only-of-type {\n",
       "        vertical-align: middle;\n",
       "    }\n",
       "\n",
       "    .dataframe tbody tr th {\n",
       "        vertical-align: top;\n",
       "    }\n",
       "\n",
       "    .dataframe thead th {\n",
       "        text-align: right;\n",
       "    }\n",
       "</style>\n",
       "<table border=\"1\" class=\"dataframe\">\n",
       "  <thead>\n",
       "    <tr style=\"text-align: right;\">\n",
       "      <th></th>\n",
       "      <th>know</th>\n",
       "      <th>practice</th>\n",
       "      <th>it</th>\n",
       "      <th>us</th>\n",
       "      <th>.</th>\n",
       "      <th>was</th>\n",
       "      <th>for</th>\n",
       "      <th>is</th>\n",
       "      <th>a</th>\n",
       "      <th>also</th>\n",
       "      <th>about</th>\n",
       "      <th>to</th>\n",
       "      <th>good</th>\n",
       "    </tr>\n",
       "  </thead>\n",
       "  <tbody>\n",
       "    <tr>\n",
       "      <th>1</th>\n",
       "      <td>0</td>\n",
       "      <td>1</td>\n",
       "      <td>1</td>\n",
       "      <td>1</td>\n",
       "      <td>1</td>\n",
       "      <td>0</td>\n",
       "      <td>1</td>\n",
       "      <td>1</td>\n",
       "      <td>1</td>\n",
       "      <td>0</td>\n",
       "      <td>0</td>\n",
       "      <td>0</td>\n",
       "      <td>1</td>\n",
       "    </tr>\n",
       "    <tr>\n",
       "      <th>2</th>\n",
       "      <td>0</td>\n",
       "      <td>1</td>\n",
       "      <td>1</td>\n",
       "      <td>1</td>\n",
       "      <td>1</td>\n",
       "      <td>0</td>\n",
       "      <td>1</td>\n",
       "      <td>1</td>\n",
       "      <td>1</td>\n",
       "      <td>0</td>\n",
       "      <td>0</td>\n",
       "      <td>0</td>\n",
       "      <td>1</td>\n",
       "    </tr>\n",
       "  </tbody>\n",
       "</table>\n",
       "</div>"
      ],
      "text/plain": [
       "  know practice it us  . was for is  a also about to good\n",
       "1    0        1  1  1  1   0   1  1  1    0     0  0    1\n",
       "2    0        1  1  1  1   0   1  1  1    0     0  0    1"
      ]
     },
     "execution_count": 14,
     "metadata": {},
     "output_type": "execute_result"
    }
   ],
   "source": [
    "df"
   ]
  },
  {
   "cell_type": "markdown",
   "id": "853628df",
   "metadata": {},
   "source": [
    "# using countvector"
   ]
  },
  {
   "cell_type": "code",
   "execution_count": 15,
   "id": "8220f042",
   "metadata": {},
   "outputs": [],
   "source": [
    "from sklearn.feature_extraction.text import CountVectorizer"
   ]
  },
  {
   "cell_type": "code",
   "execution_count": 24,
   "id": "2fc63382",
   "metadata": {},
   "outputs": [
    {
     "data": {
      "text/plain": [
       "array([[0, 0, 1, 1, 1, 1, 0, 1, 0, 1, 0],\n",
       "       [1, 1, 0, 1, 0, 2, 1, 0, 1, 0, 1]], dtype=int64)"
      ]
     },
     "execution_count": 24,
     "metadata": {},
     "output_type": "execute_result"
    }
   ],
   "source": [
    "# create obj\n",
    "cvt = CountVectorizer()\n",
    "\n",
    "new_data = cvt.fit_transform([sentence_1,sentence_2])\n",
    "\n",
    "new_data.toarray()"
   ]
  },
  {
   "cell_type": "code",
   "execution_count": 25,
   "id": "3437af70",
   "metadata": {},
   "outputs": [
    {
     "data": {
      "text/plain": [
       "array(['about', 'also', 'for', 'good', 'is', 'it', 'know', 'practice',\n",
       "       'to', 'us', 'was'], dtype=object)"
      ]
     },
     "execution_count": 25,
     "metadata": {},
     "output_type": "execute_result"
    }
   ],
   "source": [
    "# print features name:\n",
    "\n",
    "col_name = cvt.get_feature_names_out()\n",
    "col_name"
   ]
  },
  {
   "cell_type": "code",
   "execution_count": 26,
   "id": "7ddfd400",
   "metadata": {},
   "outputs": [
    {
     "data": {
      "text/html": [
       "<div>\n",
       "<style scoped>\n",
       "    .dataframe tbody tr th:only-of-type {\n",
       "        vertical-align: middle;\n",
       "    }\n",
       "\n",
       "    .dataframe tbody tr th {\n",
       "        vertical-align: top;\n",
       "    }\n",
       "\n",
       "    .dataframe thead th {\n",
       "        text-align: right;\n",
       "    }\n",
       "</style>\n",
       "<table border=\"1\" class=\"dataframe\">\n",
       "  <thead>\n",
       "    <tr style=\"text-align: right;\">\n",
       "      <th></th>\n",
       "      <th>about</th>\n",
       "      <th>also</th>\n",
       "      <th>for</th>\n",
       "      <th>good</th>\n",
       "      <th>is</th>\n",
       "      <th>it</th>\n",
       "      <th>know</th>\n",
       "      <th>practice</th>\n",
       "      <th>to</th>\n",
       "      <th>us</th>\n",
       "      <th>was</th>\n",
       "    </tr>\n",
       "  </thead>\n",
       "  <tbody>\n",
       "    <tr>\n",
       "      <th>0</th>\n",
       "      <td>0</td>\n",
       "      <td>0</td>\n",
       "      <td>1</td>\n",
       "      <td>1</td>\n",
       "      <td>1</td>\n",
       "      <td>1</td>\n",
       "      <td>0</td>\n",
       "      <td>1</td>\n",
       "      <td>0</td>\n",
       "      <td>1</td>\n",
       "      <td>0</td>\n",
       "    </tr>\n",
       "    <tr>\n",
       "      <th>1</th>\n",
       "      <td>1</td>\n",
       "      <td>1</td>\n",
       "      <td>0</td>\n",
       "      <td>1</td>\n",
       "      <td>0</td>\n",
       "      <td>2</td>\n",
       "      <td>1</td>\n",
       "      <td>0</td>\n",
       "      <td>1</td>\n",
       "      <td>0</td>\n",
       "      <td>1</td>\n",
       "    </tr>\n",
       "  </tbody>\n",
       "</table>\n",
       "</div>"
      ],
      "text/plain": [
       "   about  also  for  good  is  it  know  practice  to  us  was\n",
       "0      0     0    1     1   1   1     0         1   0   1    0\n",
       "1      1     1    0     1   0   2     1         0   1   0    1"
      ]
     },
     "execution_count": 26,
     "metadata": {},
     "output_type": "execute_result"
    }
   ],
   "source": [
    "# create df:\n",
    "\n",
    "new_df = pd.DataFrame(data = new_data.toarray(), columns=list(col_name))\n",
    "new_df"
   ]
  },
  {
   "cell_type": "markdown",
   "id": "227b9028",
   "metadata": {},
   "source": [
    "# N grams:"
   ]
  },
  {
   "cell_type": "code",
   "execution_count": 28,
   "id": "d833b04b",
   "metadata": {},
   "outputs": [
    {
     "data": {
      "text/plain": [
       "array([[0, 0, 1, 1, 1, 1, 0, 1, 0, 1, 0],\n",
       "       [1, 1, 0, 1, 0, 2, 1, 0, 1, 0, 1]], dtype=int64)"
      ]
     },
     "execution_count": 28,
     "metadata": {},
     "output_type": "execute_result"
    }
   ],
   "source": [
    "# create obj:\n",
    "cvt = CountVectorizer()\n",
    "\n",
    "new_data = cvt.fit_transform([sentence_1, sentence_2])\n",
    "new_data.toarray()"
   ]
  },
  {
   "cell_type": "code",
   "execution_count": 29,
   "id": "78a4183f",
   "metadata": {},
   "outputs": [
    {
     "data": {
      "text/html": [
       "<div>\n",
       "<style scoped>\n",
       "    .dataframe tbody tr th:only-of-type {\n",
       "        vertical-align: middle;\n",
       "    }\n",
       "\n",
       "    .dataframe tbody tr th {\n",
       "        vertical-align: top;\n",
       "    }\n",
       "\n",
       "    .dataframe thead th {\n",
       "        text-align: right;\n",
       "    }\n",
       "</style>\n",
       "<table border=\"1\" class=\"dataframe\">\n",
       "  <thead>\n",
       "    <tr style=\"text-align: right;\">\n",
       "      <th></th>\n",
       "      <th>about</th>\n",
       "      <th>also</th>\n",
       "      <th>for</th>\n",
       "      <th>good</th>\n",
       "      <th>is</th>\n",
       "      <th>it</th>\n",
       "      <th>know</th>\n",
       "      <th>practice</th>\n",
       "      <th>to</th>\n",
       "      <th>us</th>\n",
       "      <th>was</th>\n",
       "    </tr>\n",
       "  </thead>\n",
       "  <tbody>\n",
       "    <tr>\n",
       "      <th>0</th>\n",
       "      <td>0</td>\n",
       "      <td>0</td>\n",
       "      <td>1</td>\n",
       "      <td>1</td>\n",
       "      <td>1</td>\n",
       "      <td>1</td>\n",
       "      <td>0</td>\n",
       "      <td>1</td>\n",
       "      <td>0</td>\n",
       "      <td>1</td>\n",
       "      <td>0</td>\n",
       "    </tr>\n",
       "    <tr>\n",
       "      <th>1</th>\n",
       "      <td>1</td>\n",
       "      <td>1</td>\n",
       "      <td>0</td>\n",
       "      <td>1</td>\n",
       "      <td>0</td>\n",
       "      <td>2</td>\n",
       "      <td>1</td>\n",
       "      <td>0</td>\n",
       "      <td>1</td>\n",
       "      <td>0</td>\n",
       "      <td>1</td>\n",
       "    </tr>\n",
       "  </tbody>\n",
       "</table>\n",
       "</div>"
      ],
      "text/plain": [
       "   about  also  for  good  is  it  know  practice  to  us  was\n",
       "0      0     0    1     1   1   1     0         1   0   1    0\n",
       "1      1     1    0     1   0   2     1         0   1   0    1"
      ]
     },
     "execution_count": 29,
     "metadata": {},
     "output_type": "execute_result"
    }
   ],
   "source": [
    "df_cvt = pd.DataFrame(data = new_data.toarray(), columns=cvt.get_feature_names_out())\n",
    "df_cvt"
   ]
  },
  {
   "cell_type": "markdown",
   "id": "159556fb",
   "metadata": {},
   "source": [
    "# For Bi-gram:"
   ]
  },
  {
   "cell_type": "code",
   "execution_count": 30,
   "id": "ce6b4040",
   "metadata": {},
   "outputs": [
    {
     "data": {
      "text/html": [
       "<div>\n",
       "<style scoped>\n",
       "    .dataframe tbody tr th:only-of-type {\n",
       "        vertical-align: middle;\n",
       "    }\n",
       "\n",
       "    .dataframe tbody tr th {\n",
       "        vertical-align: top;\n",
       "    }\n",
       "\n",
       "    .dataframe thead th {\n",
       "        text-align: right;\n",
       "    }\n",
       "</style>\n",
       "<table border=\"1\" class=\"dataframe\">\n",
       "  <thead>\n",
       "    <tr style=\"text-align: right;\">\n",
       "      <th></th>\n",
       "      <th>about it</th>\n",
       "      <th>also good</th>\n",
       "      <th>for us</th>\n",
       "      <th>good practice</th>\n",
       "      <th>good to</th>\n",
       "      <th>is good</th>\n",
       "      <th>it is</th>\n",
       "      <th>it was</th>\n",
       "      <th>know about</th>\n",
       "      <th>practice for</th>\n",
       "      <th>to know</th>\n",
       "      <th>was also</th>\n",
       "    </tr>\n",
       "  </thead>\n",
       "  <tbody>\n",
       "    <tr>\n",
       "      <th>0</th>\n",
       "      <td>0</td>\n",
       "      <td>0</td>\n",
       "      <td>1</td>\n",
       "      <td>1</td>\n",
       "      <td>0</td>\n",
       "      <td>1</td>\n",
       "      <td>1</td>\n",
       "      <td>0</td>\n",
       "      <td>0</td>\n",
       "      <td>1</td>\n",
       "      <td>0</td>\n",
       "      <td>0</td>\n",
       "    </tr>\n",
       "    <tr>\n",
       "      <th>1</th>\n",
       "      <td>1</td>\n",
       "      <td>1</td>\n",
       "      <td>0</td>\n",
       "      <td>0</td>\n",
       "      <td>1</td>\n",
       "      <td>0</td>\n",
       "      <td>0</td>\n",
       "      <td>1</td>\n",
       "      <td>1</td>\n",
       "      <td>0</td>\n",
       "      <td>1</td>\n",
       "      <td>1</td>\n",
       "    </tr>\n",
       "  </tbody>\n",
       "</table>\n",
       "</div>"
      ],
      "text/plain": [
       "   about it  also good  for us  good practice  good to  is good  it is  \\\n",
       "0         0          0       1              1        0        1      1   \n",
       "1         1          1       0              0        1        0      0   \n",
       "\n",
       "   it was  know about  practice for  to know  was also  \n",
       "0       0           0             1        0         0  \n",
       "1       1           1             0        1         1  "
      ]
     },
     "execution_count": 30,
     "metadata": {},
     "output_type": "execute_result"
    }
   ],
   "source": [
    "cvt = CountVectorizer(ngram_range= (2,2))\n",
    "new_data = cvt.fit_transform([sentence_1, sentence_2])\n",
    "\n",
    "df_cvt = pd.DataFrame(data = new_data.toarray(), columns=cvt.get_feature_names_out())\n",
    "df_cvt"
   ]
  },
  {
   "cell_type": "markdown",
   "id": "d7a94c8f",
   "metadata": {},
   "source": [
    "# For tri- gram"
   ]
  },
  {
   "cell_type": "code",
   "execution_count": 31,
   "id": "8667c05b",
   "metadata": {},
   "outputs": [
    {
     "data": {
      "text/html": [
       "<div>\n",
       "<style scoped>\n",
       "    .dataframe tbody tr th:only-of-type {\n",
       "        vertical-align: middle;\n",
       "    }\n",
       "\n",
       "    .dataframe tbody tr th {\n",
       "        vertical-align: top;\n",
       "    }\n",
       "\n",
       "    .dataframe thead th {\n",
       "        text-align: right;\n",
       "    }\n",
       "</style>\n",
       "<table border=\"1\" class=\"dataframe\">\n",
       "  <thead>\n",
       "    <tr style=\"text-align: right;\">\n",
       "      <th></th>\n",
       "      <th>also good to</th>\n",
       "      <th>good practice for</th>\n",
       "      <th>good to know</th>\n",
       "      <th>is good practice</th>\n",
       "      <th>it is good</th>\n",
       "      <th>it was also</th>\n",
       "      <th>know about it</th>\n",
       "      <th>practice for us</th>\n",
       "      <th>to know about</th>\n",
       "      <th>was also good</th>\n",
       "    </tr>\n",
       "  </thead>\n",
       "  <tbody>\n",
       "    <tr>\n",
       "      <th>0</th>\n",
       "      <td>0</td>\n",
       "      <td>1</td>\n",
       "      <td>0</td>\n",
       "      <td>1</td>\n",
       "      <td>1</td>\n",
       "      <td>0</td>\n",
       "      <td>0</td>\n",
       "      <td>1</td>\n",
       "      <td>0</td>\n",
       "      <td>0</td>\n",
       "    </tr>\n",
       "    <tr>\n",
       "      <th>1</th>\n",
       "      <td>1</td>\n",
       "      <td>0</td>\n",
       "      <td>1</td>\n",
       "      <td>0</td>\n",
       "      <td>0</td>\n",
       "      <td>1</td>\n",
       "      <td>1</td>\n",
       "      <td>0</td>\n",
       "      <td>1</td>\n",
       "      <td>1</td>\n",
       "    </tr>\n",
       "  </tbody>\n",
       "</table>\n",
       "</div>"
      ],
      "text/plain": [
       "   also good to  good practice for  good to know  is good practice  \\\n",
       "0             0                  1             0                 1   \n",
       "1             1                  0             1                 0   \n",
       "\n",
       "   it is good  it was also  know about it  practice for us  to know about  \\\n",
       "0           1            0              0                1              0   \n",
       "1           0            1              1                0              1   \n",
       "\n",
       "   was also good  \n",
       "0              0  \n",
       "1              1  "
      ]
     },
     "execution_count": 31,
     "metadata": {},
     "output_type": "execute_result"
    }
   ],
   "source": [
    "cvt = CountVectorizer(ngram_range= (3,3))\n",
    "new_data = cvt.fit_transform([sentence_1, sentence_2])\n",
    "\n",
    "df_cvt = pd.DataFrame(data = new_data.toarray(), columns=cvt.get_feature_names_out())\n",
    "df_cvt"
   ]
  },
  {
   "cell_type": "code",
   "execution_count": null,
   "id": "fc431944",
   "metadata": {},
   "outputs": [],
   "source": []
  }
 ],
 "metadata": {
  "kernelspec": {
   "display_name": "Python 3 (ipykernel)",
   "language": "python",
   "name": "python3"
  },
  "language_info": {
   "codemirror_mode": {
    "name": "ipython",
    "version": 3
   },
   "file_extension": ".py",
   "mimetype": "text/x-python",
   "name": "python",
   "nbconvert_exporter": "python",
   "pygments_lexer": "ipython3",
   "version": "3.11.7"
  }
 },
 "nbformat": 4,
 "nbformat_minor": 5
}
