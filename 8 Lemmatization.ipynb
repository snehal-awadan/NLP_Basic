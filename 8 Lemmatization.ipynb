{
 "cells": [
  {
   "cell_type": "markdown",
   "id": "04c3bbca",
   "metadata": {},
   "source": [
    "\n",
    "# Declared the words:"
   ]
  },
  {
   "cell_type": "code",
   "execution_count": 3,
   "id": "75c61314",
   "metadata": {},
   "outputs": [],
   "source": [
    "from nltk.stem import WordNetLemmatizer"
   ]
  },
  {
   "cell_type": "code",
   "execution_count": 1,
   "id": "ce7fb209",
   "metadata": {},
   "outputs": [],
   "source": [
    "words1  = 'managing', 'manage', 'management', 'managerial', 'managed'\n",
    "\n",
    "words2 = 'worked' ,'workable', 'working', 'worked'\n",
    "\n",
    "words3 = 'big', 'biggest', 'bigger'\n",
    "\n",
    "words4 = 'go', 'gone', 'went', 'going'\n",
    "\n",
    "words5 = 'child', 'children'\n",
    "\n",
    "words6 = 'plays','playing','played','players'"
   ]
  },
  {
   "cell_type": "raw",
   "id": "2079d9b8",
   "metadata": {},
   "source": [
    "Lemmatization: it reduced the word to its root or base word.\n",
    "\n",
    "Lemmatization and stemming process is almost same with key differece that is\n",
    "\n",
    "stemmatization may produce meaningless word. \n",
    "\n",
    "Lemmatization produces always meaningful words.\n",
    "\n",
    "But in lemmatization, we need to provide pos tagging for the word."
   ]
  },
  {
   "cell_type": "code",
   "execution_count": 5,
   "id": "45d1032c",
   "metadata": {},
   "outputs": [
    {
     "data": {
      "text/plain": [
       "'manage'"
      ]
     },
     "execution_count": 5,
     "metadata": {},
     "output_type": "execute_result"
    }
   ],
   "source": [
    "# create obj:\n",
    "wnl = WordNetLemmatizer()\n",
    "\n",
    "# apply lemmatization on first word of words1:\n",
    "wnl.lemmatize(words1[0], pos = 'v')"
   ]
  },
  {
   "cell_type": "code",
   "execution_count": 11,
   "id": "34c2d4fc",
   "metadata": {},
   "outputs": [
    {
     "data": {
      "text/plain": [
       "'workable'"
      ]
     },
     "execution_count": 11,
     "metadata": {},
     "output_type": "execute_result"
    }
   ],
   "source": [
    "wnl.lemmatize(words2[1], pos =\"v\")"
   ]
  },
  {
   "cell_type": "code",
   "execution_count": null,
   "id": "bd715d9a",
   "metadata": {},
   "outputs": [],
   "source": []
  }
 ],
 "metadata": {
  "kernelspec": {
   "display_name": "Python 3 (ipykernel)",
   "language": "python",
   "name": "python3"
  },
  "language_info": {
   "codemirror_mode": {
    "name": "ipython",
    "version": 3
   },
   "file_extension": ".py",
   "mimetype": "text/x-python",
   "name": "python",
   "nbconvert_exporter": "python",
   "pygments_lexer": "ipython3",
   "version": "3.11.7"
  }
 },
 "nbformat": 4,
 "nbformat_minor": 5
}
